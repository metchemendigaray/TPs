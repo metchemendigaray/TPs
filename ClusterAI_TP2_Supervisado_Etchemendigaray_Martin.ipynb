{
 "cells": [
  {
   "cell_type": "markdown",
   "metadata": {
    "id": "P3ANPsbtkuXj"
   },
   "source": [
    "## **Trabajo Práctico Individual n° 2: Aprendizaje Supervisado**\n",
    "____\n",
    "__Universidad Tecnológica Nacional, Buenos Aires__\\\n",
    "__Ingeniería Industrial__\\\n",
    "__Ciencia de Datos - Curso I5521__\n",
    "____"
   ]
  },
  {
   "cell_type": "markdown",
   "metadata": {
    "id": "cTPsPHb_lWTE"
   },
   "source": [
    "- Nombre: Martin\n",
    "- Apellido: Etchemendigaray\n",
    "- Legajo: 1638828\n"
   ]
  },
  {
   "cell_type": "markdown",
   "metadata": {
    "id": "E5W-65MskuXx"
   },
   "source": [
    "En este trabajo práctico aplicaremos algunas técnicas aprendidas para el aprendizaje automático supervisado.\n",
    "\n",
    "Utilizaremos un dataset de airbnb donde buscaremos predecir el precio de las noches de cada hogar en funcion de algunas variables."
   ]
  },
  {
   "cell_type": "markdown",
   "metadata": {
    "id": "mKUpHSLqkuXz"
   },
   "source": [
    "#### Variables:\n",
    "- Unnamed: 0: Variable de contador de registros (no será utilizada en nuetro análisis)\n",
    "- neighbourhood: Barrio donde se encuentra ubicado la casa.\n",
    "- room_type: Tipo de hogar en alquiler.\n",
    "- price: Precio por noche.\n",
    "- minimum_nights: Cantidad minimas de noches que pueden alquilar el hogar.\n",
    "- number_of_reviews: Cantidad de reviews\n",
    "- reviews_per_month: Tasa de reviews que tienen por mes\n",
    "- calculated_host_listings_count: Cantidad de hogares ofrecidos por el host.\n",
    "- availability_365: Cantidad de dias que se encuentra en alquiler el hogar"
   ]
  },
  {
   "cell_type": "markdown",
   "metadata": {
    "id": "hWk9Vqs8l5jg"
   },
   "source": [
    "## **Objetivos del trabajo practico**\n",
    "- resolver los requisitos que se detallan en las proximas celdas\n",
    "- dejar comentarios # en cada linea de codigo que se agregue\n",
    "- fecha limite de entrega: 13 de Octubre 2022 a las 23h59"
   ]
  },
  {
   "cell_type": "code",
   "execution_count": 1,
   "metadata": {
    "id": "7VzMW3fvkuX0"
   },
   "outputs": [],
   "source": [
    "## Importo librerías de maniupulación de datos\n",
    "import pandas as pd\n",
    "import numpy as np\n",
    "import seaborn as sns\n",
    "import matplotlib.pyplot as plt"
   ]
  },
  {
   "cell_type": "code",
   "execution_count": 2,
   "metadata": {
    "id": "NFgDAUVLNfhE"
   },
   "outputs": [],
   "source": [
    "## Importo librerías de Aprendizaje automático\n",
    "from sklearn import preprocessing\n",
    "from sklearn import linear_model\n",
    "from sklearn.model_selection import train_test_split, cross_val_score\n",
    "from sklearn.metrics import r2_score, mean_squared_error\n",
    "from sklearn.utils import shuffle\n",
    "from sklearn.preprocessing import StandardScaler\n",
    "from sklearn import preprocessing\n",
    "from sklearn.preprocessing import LabelEncoder\n",
    "from sklearn.linear_model import LinearRegression\n",
    "from sklearn.svm import SVR, LinearSVR\n",
    "from sklearn.metrics import mean_squared_error, make_scorer\n",
    "from sklearn.model_selection import GridSearchCV"
   ]
  },
  {
   "cell_type": "markdown",
   "metadata": {
    "id": "v7h4SOeAkuX4"
   },
   "source": [
    "##### **Objetivo 1**\n",
    "Lo primero que deberan hacer será importar\n",
    "- el dataset bajo en nombre \"london\"\n",
    "- corroborar que lo hayamos cargado correctamente."
   ]
  },
  {
   "cell_type": "code",
   "execution_count": 3,
   "metadata": {
    "colab": {
     "base_uri": "https://localhost:8080/",
     "height": 75
    },
    "id": "2EOIgMedmgBM",
    "outputId": "06d3d5b6-c70b-4511-b9af-a5e4ae929301"
   },
   "outputs": [],
   "source": [
    "#Importar y corroborar que se haya cargado\n",
    "london = pd.read_csv(r'D:\\Users\\Usuario\\Desktop\\UTN-FRBA\\5to año\\Ciencia de datos\\clusterai_2022-main\\TP\\TP2_airbnb_london.csv', delimiter=',',encoding='latin-1')\n"
   ]
  },
  {
   "cell_type": "code",
   "execution_count": 4,
   "metadata": {
    "colab": {
     "base_uri": "https://localhost:8080/",
     "height": 206
    },
    "id": "n1LDFhOhLcQv",
    "outputId": "51a9bd91-16b2-4f11-dc6a-2f8caa824805"
   },
   "outputs": [
    {
     "data": {
      "text/html": [
       "<div>\n",
       "<style scoped>\n",
       "    .dataframe tbody tr th:only-of-type {\n",
       "        vertical-align: middle;\n",
       "    }\n",
       "\n",
       "    .dataframe tbody tr th {\n",
       "        vertical-align: top;\n",
       "    }\n",
       "\n",
       "    .dataframe thead th {\n",
       "        text-align: right;\n",
       "    }\n",
       "</style>\n",
       "<table border=\"1\" class=\"dataframe\">\n",
       "  <thead>\n",
       "    <tr style=\"text-align: right;\">\n",
       "      <th></th>\n",
       "      <th>Unnamed: 0</th>\n",
       "      <th>neighbourhood</th>\n",
       "      <th>room_type</th>\n",
       "      <th>price</th>\n",
       "      <th>minimum_nights</th>\n",
       "      <th>number_of_reviews</th>\n",
       "      <th>reviews_per_month</th>\n",
       "      <th>calculated_host_listings_count</th>\n",
       "      <th>availability_365</th>\n",
       "    </tr>\n",
       "  </thead>\n",
       "  <tbody>\n",
       "    <tr>\n",
       "      <th>0</th>\n",
       "      <td>0</td>\n",
       "      <td>Haringey</td>\n",
       "      <td>Private room</td>\n",
       "      <td>35</td>\n",
       "      <td>1</td>\n",
       "      <td>131</td>\n",
       "      <td>1.71</td>\n",
       "      <td>4</td>\n",
       "      <td>262</td>\n",
       "    </tr>\n",
       "    <tr>\n",
       "      <th>1</th>\n",
       "      <td>1</td>\n",
       "      <td>Ealing</td>\n",
       "      <td>Private room</td>\n",
       "      <td>70</td>\n",
       "      <td>2</td>\n",
       "      <td>2</td>\n",
       "      <td>0.07</td>\n",
       "      <td>6</td>\n",
       "      <td>62</td>\n",
       "    </tr>\n",
       "    <tr>\n",
       "      <th>2</th>\n",
       "      <td>2</td>\n",
       "      <td>Islington</td>\n",
       "      <td>Private room</td>\n",
       "      <td>45</td>\n",
       "      <td>1</td>\n",
       "      <td>14</td>\n",
       "      <td>0.14</td>\n",
       "      <td>2</td>\n",
       "      <td>364</td>\n",
       "    </tr>\n",
       "    <tr>\n",
       "      <th>3</th>\n",
       "      <td>5</td>\n",
       "      <td>Tower Hamlets</td>\n",
       "      <td>Entire home/apt</td>\n",
       "      <td>102</td>\n",
       "      <td>5</td>\n",
       "      <td>7</td>\n",
       "      <td>0.07</td>\n",
       "      <td>56</td>\n",
       "      <td>295</td>\n",
       "    </tr>\n",
       "    <tr>\n",
       "      <th>4</th>\n",
       "      <td>6</td>\n",
       "      <td>Barnet</td>\n",
       "      <td>Private room</td>\n",
       "      <td>29</td>\n",
       "      <td>5</td>\n",
       "      <td>114</td>\n",
       "      <td>1.13</td>\n",
       "      <td>3</td>\n",
       "      <td>285</td>\n",
       "    </tr>\n",
       "  </tbody>\n",
       "</table>\n",
       "</div>"
      ],
      "text/plain": [
       "   Unnamed: 0  neighbourhood        room_type  price  minimum_nights  \\\n",
       "0           0       Haringey     Private room     35               1   \n",
       "1           1         Ealing     Private room     70               2   \n",
       "2           2      Islington     Private room     45               1   \n",
       "3           5  Tower Hamlets  Entire home/apt    102               5   \n",
       "4           6         Barnet     Private room     29               5   \n",
       "\n",
       "   number_of_reviews  reviews_per_month  calculated_host_listings_count  \\\n",
       "0                131               1.71                               4   \n",
       "1                  2               0.07                               6   \n",
       "2                 14               0.14                               2   \n",
       "3                  7               0.07                              56   \n",
       "4                114               1.13                               3   \n",
       "\n",
       "   availability_365  \n",
       "0               262  \n",
       "1                62  \n",
       "2               364  \n",
       "3               295  \n",
       "4               285  "
      ]
     },
     "execution_count": 4,
     "metadata": {},
     "output_type": "execute_result"
    }
   ],
   "source": [
    "london.head()"
   ]
  },
  {
   "cell_type": "markdown",
   "metadata": {
    "id": "LFZY1u8XkuX5"
   },
   "source": [
    "##### **Objetivo 2**\n",
    "Ahora imprimir también las dimensiones del dataset y eliminar la variable \"Unnamed:0\" del dataset.\n",
    "Volver a guardar el dataset sin esta variable bajo el nombre \"london\" "
   ]
  },
  {
   "cell_type": "code",
   "execution_count": 5,
   "metadata": {
    "colab": {
     "base_uri": "https://localhost:8080/"
    },
    "id": "V6WzWe1JkuX7",
    "outputId": "043be929-eda6-4a21-a019-b685f7b289a8"
   },
   "outputs": [
    {
     "name": "stdout",
     "output_type": "stream",
     "text": [
      "El tamaño del dataset es de 51827 filas por 9 columnas\n"
     ]
    }
   ],
   "source": [
    "print(f'El tamaño del dataset es de '+str(np.shape(london)[0]) + ' filas por ' +str(np.shape(london)[1]) + ' columnas')"
   ]
  },
  {
   "cell_type": "code",
   "execution_count": 6,
   "metadata": {
    "colab": {
     "base_uri": "https://localhost:8080/",
     "height": 206
    },
    "id": "Wqk6rse0NqkG",
    "outputId": "3d2eee6e-1b10-465e-e976-c59a245f03d2"
   },
   "outputs": [],
   "source": [
    "london=london.drop(columns=['Unnamed: 0'])\n"
   ]
  },
  {
   "cell_type": "code",
   "execution_count": 7,
   "metadata": {},
   "outputs": [
    {
     "data": {
      "text/html": [
       "<div>\n",
       "<style scoped>\n",
       "    .dataframe tbody tr th:only-of-type {\n",
       "        vertical-align: middle;\n",
       "    }\n",
       "\n",
       "    .dataframe tbody tr th {\n",
       "        vertical-align: top;\n",
       "    }\n",
       "\n",
       "    .dataframe thead th {\n",
       "        text-align: right;\n",
       "    }\n",
       "</style>\n",
       "<table border=\"1\" class=\"dataframe\">\n",
       "  <thead>\n",
       "    <tr style=\"text-align: right;\">\n",
       "      <th></th>\n",
       "      <th>neighbourhood</th>\n",
       "      <th>room_type</th>\n",
       "      <th>price</th>\n",
       "      <th>minimum_nights</th>\n",
       "      <th>number_of_reviews</th>\n",
       "      <th>reviews_per_month</th>\n",
       "      <th>calculated_host_listings_count</th>\n",
       "      <th>availability_365</th>\n",
       "    </tr>\n",
       "  </thead>\n",
       "  <tbody>\n",
       "    <tr>\n",
       "      <th>0</th>\n",
       "      <td>Haringey</td>\n",
       "      <td>Private room</td>\n",
       "      <td>35</td>\n",
       "      <td>1</td>\n",
       "      <td>131</td>\n",
       "      <td>1.71</td>\n",
       "      <td>4</td>\n",
       "      <td>262</td>\n",
       "    </tr>\n",
       "    <tr>\n",
       "      <th>1</th>\n",
       "      <td>Ealing</td>\n",
       "      <td>Private room</td>\n",
       "      <td>70</td>\n",
       "      <td>2</td>\n",
       "      <td>2</td>\n",
       "      <td>0.07</td>\n",
       "      <td>6</td>\n",
       "      <td>62</td>\n",
       "    </tr>\n",
       "    <tr>\n",
       "      <th>2</th>\n",
       "      <td>Islington</td>\n",
       "      <td>Private room</td>\n",
       "      <td>45</td>\n",
       "      <td>1</td>\n",
       "      <td>14</td>\n",
       "      <td>0.14</td>\n",
       "      <td>2</td>\n",
       "      <td>364</td>\n",
       "    </tr>\n",
       "    <tr>\n",
       "      <th>3</th>\n",
       "      <td>Tower Hamlets</td>\n",
       "      <td>Entire home/apt</td>\n",
       "      <td>102</td>\n",
       "      <td>5</td>\n",
       "      <td>7</td>\n",
       "      <td>0.07</td>\n",
       "      <td>56</td>\n",
       "      <td>295</td>\n",
       "    </tr>\n",
       "    <tr>\n",
       "      <th>4</th>\n",
       "      <td>Barnet</td>\n",
       "      <td>Private room</td>\n",
       "      <td>29</td>\n",
       "      <td>5</td>\n",
       "      <td>114</td>\n",
       "      <td>1.13</td>\n",
       "      <td>3</td>\n",
       "      <td>285</td>\n",
       "    </tr>\n",
       "  </tbody>\n",
       "</table>\n",
       "</div>"
      ],
      "text/plain": [
       "   neighbourhood        room_type  price  minimum_nights  number_of_reviews  \\\n",
       "0       Haringey     Private room     35               1                131   \n",
       "1         Ealing     Private room     70               2                  2   \n",
       "2      Islington     Private room     45               1                 14   \n",
       "3  Tower Hamlets  Entire home/apt    102               5                  7   \n",
       "4         Barnet     Private room     29               5                114   \n",
       "\n",
       "   reviews_per_month  calculated_host_listings_count  availability_365  \n",
       "0               1.71                               4               262  \n",
       "1               0.07                               6                62  \n",
       "2               0.14                               2               364  \n",
       "3               0.07                              56               295  \n",
       "4               1.13                               3               285  "
      ]
     },
     "execution_count": 7,
     "metadata": {},
     "output_type": "execute_result"
    }
   ],
   "source": [
    "##Verifico haber sacado la columna\n",
    "london.head()"
   ]
  },
  {
   "cell_type": "markdown",
   "metadata": {
    "id": "i6rbeiRvkuX8"
   },
   "source": [
    "##### **Objetivo 3**\n",
    "Corroborar que el dataset no cuenta con valores nulos, si los hubiera llenarlos todos con 0."
   ]
  },
  {
   "cell_type": "code",
   "execution_count": 8,
   "metadata": {
    "colab": {
     "base_uri": "https://localhost:8080/"
    },
    "id": "UmWoowmGNpNB",
    "outputId": "d83db353-95b2-4f35-f4ea-9999847f3987"
   },
   "outputs": [
    {
     "data": {
      "text/plain": [
       "neighbourhood                     False\n",
       "room_type                         False\n",
       "price                             False\n",
       "minimum_nights                    False\n",
       "number_of_reviews                 False\n",
       "reviews_per_month                 False\n",
       "calculated_host_listings_count    False\n",
       "availability_365                  False\n",
       "dtype: bool"
      ]
     },
     "execution_count": 8,
     "metadata": {},
     "output_type": "execute_result"
    }
   ],
   "source": [
    "col_nulls = london.isnull().any()\n",
    "col_nulls\n",
    "#No tiene nulos"
   ]
  },
  {
   "cell_type": "markdown",
   "metadata": {
    "id": "J5K3hnLhkuX9"
   },
   "source": [
    "##### **Objetivo 4**\n",
    "Mostrar el tipo de dato para las variables \"neighbourhood\" y \"room_type\"."
   ]
  },
  {
   "cell_type": "code",
   "execution_count": 9,
   "metadata": {
    "colab": {
     "base_uri": "https://localhost:8080/"
    },
    "id": "buyjxSDNkuX-",
    "outputId": "a5d03144-2be7-45aa-9415-7ed3aa19035f"
   },
   "outputs": [
    {
     "data": {
      "text/plain": [
       "neighbourhood    object\n",
       "room_type        object\n",
       "dtype: object"
      ]
     },
     "execution_count": 9,
     "metadata": {},
     "output_type": "execute_result"
    }
   ],
   "source": [
    "neigh_room = london[[\"neighbourhood\", \"room_type\"]]\n",
    "neigh_room.dtypes"
   ]
  },
  {
   "cell_type": "markdown",
   "metadata": {
    "id": "-Pif7gnqkuX-"
   },
   "source": [
    "##### **Objetivo 5**\n",
    "Generar las variables dummies para estas dos variables categóricas y unirlas al dataset london.\n"
   ]
  },
  {
   "cell_type": "code",
   "execution_count": 10,
   "metadata": {
    "id": "WQ2GszPKNfhI"
   },
   "outputs": [],
   "source": [
    "## Genero las dummies para la variable neighbourhood, dentro de la variable neigh_dummies.\n",
    "neigh_dummies = pd.get_dummies(london['neighbourhood'])"
   ]
  },
  {
   "cell_type": "markdown",
   "metadata": {
    "id": "D9raTKcGNfhJ"
   },
   "source": [
    "Imprimir las dimensiones y primeras lineas de estas dummies"
   ]
  },
  {
   "cell_type": "code",
   "execution_count": 11,
   "metadata": {
    "colab": {
     "base_uri": "https://localhost:8080/"
    },
    "id": "x5aYhwWcNfhJ",
    "outputId": "842d55db-055b-46fe-be14-85c433b498e6"
   },
   "outputs": [
    {
     "data": {
      "text/plain": [
       "(51827, 33)"
      ]
     },
     "execution_count": 11,
     "metadata": {},
     "output_type": "execute_result"
    }
   ],
   "source": [
    "np.shape(neigh_dummies)\n"
   ]
  },
  {
   "cell_type": "code",
   "execution_count": 12,
   "metadata": {
    "colab": {
     "base_uri": "https://localhost:8080/",
     "height": 334
    },
    "id": "ehoVgr9NNfhJ",
    "outputId": "9999ef11-fc4e-463b-a6a8-08005e5376cd"
   },
   "outputs": [
    {
     "data": {
      "text/html": [
       "<div>\n",
       "<style scoped>\n",
       "    .dataframe tbody tr th:only-of-type {\n",
       "        vertical-align: middle;\n",
       "    }\n",
       "\n",
       "    .dataframe tbody tr th {\n",
       "        vertical-align: top;\n",
       "    }\n",
       "\n",
       "    .dataframe thead th {\n",
       "        text-align: right;\n",
       "    }\n",
       "</style>\n",
       "<table border=\"1\" class=\"dataframe\">\n",
       "  <thead>\n",
       "    <tr style=\"text-align: right;\">\n",
       "      <th></th>\n",
       "      <th>Barking and Dagenham</th>\n",
       "      <th>Barnet</th>\n",
       "      <th>Bexley</th>\n",
       "      <th>Brent</th>\n",
       "      <th>Bromley</th>\n",
       "      <th>Camden</th>\n",
       "      <th>City of London</th>\n",
       "      <th>Croydon</th>\n",
       "      <th>Ealing</th>\n",
       "      <th>Enfield</th>\n",
       "      <th>...</th>\n",
       "      <th>Merton</th>\n",
       "      <th>Newham</th>\n",
       "      <th>Redbridge</th>\n",
       "      <th>Richmond upon Thames</th>\n",
       "      <th>Southwark</th>\n",
       "      <th>Sutton</th>\n",
       "      <th>Tower Hamlets</th>\n",
       "      <th>Waltham Forest</th>\n",
       "      <th>Wandsworth</th>\n",
       "      <th>Westminster</th>\n",
       "    </tr>\n",
       "  </thead>\n",
       "  <tbody>\n",
       "    <tr>\n",
       "      <th>0</th>\n",
       "      <td>0</td>\n",
       "      <td>0</td>\n",
       "      <td>0</td>\n",
       "      <td>0</td>\n",
       "      <td>0</td>\n",
       "      <td>0</td>\n",
       "      <td>0</td>\n",
       "      <td>0</td>\n",
       "      <td>0</td>\n",
       "      <td>0</td>\n",
       "      <td>...</td>\n",
       "      <td>0</td>\n",
       "      <td>0</td>\n",
       "      <td>0</td>\n",
       "      <td>0</td>\n",
       "      <td>0</td>\n",
       "      <td>0</td>\n",
       "      <td>0</td>\n",
       "      <td>0</td>\n",
       "      <td>0</td>\n",
       "      <td>0</td>\n",
       "    </tr>\n",
       "    <tr>\n",
       "      <th>1</th>\n",
       "      <td>0</td>\n",
       "      <td>0</td>\n",
       "      <td>0</td>\n",
       "      <td>0</td>\n",
       "      <td>0</td>\n",
       "      <td>0</td>\n",
       "      <td>0</td>\n",
       "      <td>0</td>\n",
       "      <td>1</td>\n",
       "      <td>0</td>\n",
       "      <td>...</td>\n",
       "      <td>0</td>\n",
       "      <td>0</td>\n",
       "      <td>0</td>\n",
       "      <td>0</td>\n",
       "      <td>0</td>\n",
       "      <td>0</td>\n",
       "      <td>0</td>\n",
       "      <td>0</td>\n",
       "      <td>0</td>\n",
       "      <td>0</td>\n",
       "    </tr>\n",
       "    <tr>\n",
       "      <th>2</th>\n",
       "      <td>0</td>\n",
       "      <td>0</td>\n",
       "      <td>0</td>\n",
       "      <td>0</td>\n",
       "      <td>0</td>\n",
       "      <td>0</td>\n",
       "      <td>0</td>\n",
       "      <td>0</td>\n",
       "      <td>0</td>\n",
       "      <td>0</td>\n",
       "      <td>...</td>\n",
       "      <td>0</td>\n",
       "      <td>0</td>\n",
       "      <td>0</td>\n",
       "      <td>0</td>\n",
       "      <td>0</td>\n",
       "      <td>0</td>\n",
       "      <td>0</td>\n",
       "      <td>0</td>\n",
       "      <td>0</td>\n",
       "      <td>0</td>\n",
       "    </tr>\n",
       "    <tr>\n",
       "      <th>3</th>\n",
       "      <td>0</td>\n",
       "      <td>0</td>\n",
       "      <td>0</td>\n",
       "      <td>0</td>\n",
       "      <td>0</td>\n",
       "      <td>0</td>\n",
       "      <td>0</td>\n",
       "      <td>0</td>\n",
       "      <td>0</td>\n",
       "      <td>0</td>\n",
       "      <td>...</td>\n",
       "      <td>0</td>\n",
       "      <td>0</td>\n",
       "      <td>0</td>\n",
       "      <td>0</td>\n",
       "      <td>0</td>\n",
       "      <td>0</td>\n",
       "      <td>1</td>\n",
       "      <td>0</td>\n",
       "      <td>0</td>\n",
       "      <td>0</td>\n",
       "    </tr>\n",
       "    <tr>\n",
       "      <th>4</th>\n",
       "      <td>0</td>\n",
       "      <td>1</td>\n",
       "      <td>0</td>\n",
       "      <td>0</td>\n",
       "      <td>0</td>\n",
       "      <td>0</td>\n",
       "      <td>0</td>\n",
       "      <td>0</td>\n",
       "      <td>0</td>\n",
       "      <td>0</td>\n",
       "      <td>...</td>\n",
       "      <td>0</td>\n",
       "      <td>0</td>\n",
       "      <td>0</td>\n",
       "      <td>0</td>\n",
       "      <td>0</td>\n",
       "      <td>0</td>\n",
       "      <td>0</td>\n",
       "      <td>0</td>\n",
       "      <td>0</td>\n",
       "      <td>0</td>\n",
       "    </tr>\n",
       "  </tbody>\n",
       "</table>\n",
       "<p>5 rows × 33 columns</p>\n",
       "</div>"
      ],
      "text/plain": [
       "   Barking and Dagenham  Barnet  Bexley  Brent  Bromley  Camden  \\\n",
       "0                     0       0       0      0        0       0   \n",
       "1                     0       0       0      0        0       0   \n",
       "2                     0       0       0      0        0       0   \n",
       "3                     0       0       0      0        0       0   \n",
       "4                     0       1       0      0        0       0   \n",
       "\n",
       "   City of London  Croydon  Ealing  Enfield  ...  Merton  Newham  Redbridge  \\\n",
       "0               0        0       0        0  ...       0       0          0   \n",
       "1               0        0       1        0  ...       0       0          0   \n",
       "2               0        0       0        0  ...       0       0          0   \n",
       "3               0        0       0        0  ...       0       0          0   \n",
       "4               0        0       0        0  ...       0       0          0   \n",
       "\n",
       "   Richmond upon Thames  Southwark  Sutton  Tower Hamlets  Waltham Forest  \\\n",
       "0                     0          0       0              0               0   \n",
       "1                     0          0       0              0               0   \n",
       "2                     0          0       0              0               0   \n",
       "3                     0          0       0              1               0   \n",
       "4                     0          0       0              0               0   \n",
       "\n",
       "   Wandsworth  Westminster  \n",
       "0           0            0  \n",
       "1           0            0  \n",
       "2           0            0  \n",
       "3           0            0  \n",
       "4           0            0  \n",
       "\n",
       "[5 rows x 33 columns]"
      ]
     },
     "execution_count": 12,
     "metadata": {},
     "output_type": "execute_result"
    }
   ],
   "source": [
    "neigh_dummies.head()"
   ]
  },
  {
   "cell_type": "code",
   "execution_count": 13,
   "metadata": {
    "id": "qdGPJ4tONfhJ"
   },
   "outputs": [],
   "source": [
    "## Genero las dummies para la variable room_type, dentro de la variable room_dummies.\n",
    "room_dummies = pd.get_dummies(london['room_type'])"
   ]
  },
  {
   "cell_type": "markdown",
   "metadata": {
    "id": "lDHhvq4_NfhJ"
   },
   "source": [
    "Imprimir las dimensiones y primeras lineas de estas dummies"
   ]
  },
  {
   "cell_type": "code",
   "execution_count": 14,
   "metadata": {
    "colab": {
     "base_uri": "https://localhost:8080/"
    },
    "id": "ssP3nFUcNfhJ",
    "outputId": "93659f76-2542-4f0b-c210-a7626c1b0aaf"
   },
   "outputs": [
    {
     "data": {
      "text/plain": [
       "(51827, 3)"
      ]
     },
     "execution_count": 14,
     "metadata": {},
     "output_type": "execute_result"
    }
   ],
   "source": [
    "np.shape(room_dummies)"
   ]
  },
  {
   "cell_type": "code",
   "execution_count": 15,
   "metadata": {
    "colab": {
     "base_uri": "https://localhost:8080/",
     "height": 206
    },
    "id": "jmB-t-3hNfhK",
    "outputId": "6923b92d-6068-4c9e-e419-fe714c500c1c"
   },
   "outputs": [
    {
     "data": {
      "text/html": [
       "<div>\n",
       "<style scoped>\n",
       "    .dataframe tbody tr th:only-of-type {\n",
       "        vertical-align: middle;\n",
       "    }\n",
       "\n",
       "    .dataframe tbody tr th {\n",
       "        vertical-align: top;\n",
       "    }\n",
       "\n",
       "    .dataframe thead th {\n",
       "        text-align: right;\n",
       "    }\n",
       "</style>\n",
       "<table border=\"1\" class=\"dataframe\">\n",
       "  <thead>\n",
       "    <tr style=\"text-align: right;\">\n",
       "      <th></th>\n",
       "      <th>Entire home/apt</th>\n",
       "      <th>Private room</th>\n",
       "      <th>Shared room</th>\n",
       "    </tr>\n",
       "  </thead>\n",
       "  <tbody>\n",
       "    <tr>\n",
       "      <th>0</th>\n",
       "      <td>0</td>\n",
       "      <td>1</td>\n",
       "      <td>0</td>\n",
       "    </tr>\n",
       "    <tr>\n",
       "      <th>1</th>\n",
       "      <td>0</td>\n",
       "      <td>1</td>\n",
       "      <td>0</td>\n",
       "    </tr>\n",
       "    <tr>\n",
       "      <th>2</th>\n",
       "      <td>0</td>\n",
       "      <td>1</td>\n",
       "      <td>0</td>\n",
       "    </tr>\n",
       "    <tr>\n",
       "      <th>3</th>\n",
       "      <td>1</td>\n",
       "      <td>0</td>\n",
       "      <td>0</td>\n",
       "    </tr>\n",
       "    <tr>\n",
       "      <th>4</th>\n",
       "      <td>0</td>\n",
       "      <td>1</td>\n",
       "      <td>0</td>\n",
       "    </tr>\n",
       "  </tbody>\n",
       "</table>\n",
       "</div>"
      ],
      "text/plain": [
       "   Entire home/apt  Private room  Shared room\n",
       "0                0             1            0\n",
       "1                0             1            0\n",
       "2                0             1            0\n",
       "3                1             0            0\n",
       "4                0             1            0"
      ]
     },
     "execution_count": 15,
     "metadata": {},
     "output_type": "execute_result"
    }
   ],
   "source": [
    "room_dummies.head()"
   ]
  },
  {
   "cell_type": "markdown",
   "metadata": {
    "id": "c8CG_MEdkuX-"
   },
   "source": [
    "Joinear las variables dummies al dataset\n",
    "\n"
   ]
  },
  {
   "cell_type": "code",
   "execution_count": 16,
   "metadata": {
    "id": "3Q0w7z_uNfhK",
    "scrolled": true
   },
   "outputs": [
    {
     "data": {
      "text/html": [
       "<div>\n",
       "<style scoped>\n",
       "    .dataframe tbody tr th:only-of-type {\n",
       "        vertical-align: middle;\n",
       "    }\n",
       "\n",
       "    .dataframe tbody tr th {\n",
       "        vertical-align: top;\n",
       "    }\n",
       "\n",
       "    .dataframe thead th {\n",
       "        text-align: right;\n",
       "    }\n",
       "</style>\n",
       "<table border=\"1\" class=\"dataframe\">\n",
       "  <thead>\n",
       "    <tr style=\"text-align: right;\">\n",
       "      <th></th>\n",
       "      <th>neighbourhood</th>\n",
       "      <th>room_type</th>\n",
       "      <th>price</th>\n",
       "      <th>minimum_nights</th>\n",
       "      <th>number_of_reviews</th>\n",
       "      <th>reviews_per_month</th>\n",
       "      <th>calculated_host_listings_count</th>\n",
       "      <th>availability_365</th>\n",
       "      <th>Barking and Dagenham</th>\n",
       "      <th>Barnet</th>\n",
       "      <th>...</th>\n",
       "      <th>Richmond upon Thames</th>\n",
       "      <th>Southwark</th>\n",
       "      <th>Sutton</th>\n",
       "      <th>Tower Hamlets</th>\n",
       "      <th>Waltham Forest</th>\n",
       "      <th>Wandsworth</th>\n",
       "      <th>Westminster</th>\n",
       "      <th>Entire home/apt</th>\n",
       "      <th>Private room</th>\n",
       "      <th>Shared room</th>\n",
       "    </tr>\n",
       "  </thead>\n",
       "  <tbody>\n",
       "    <tr>\n",
       "      <th>0</th>\n",
       "      <td>Haringey</td>\n",
       "      <td>Private room</td>\n",
       "      <td>35</td>\n",
       "      <td>1</td>\n",
       "      <td>131</td>\n",
       "      <td>1.71</td>\n",
       "      <td>4</td>\n",
       "      <td>262</td>\n",
       "      <td>0</td>\n",
       "      <td>0</td>\n",
       "      <td>...</td>\n",
       "      <td>0</td>\n",
       "      <td>0</td>\n",
       "      <td>0</td>\n",
       "      <td>0</td>\n",
       "      <td>0</td>\n",
       "      <td>0</td>\n",
       "      <td>0</td>\n",
       "      <td>0</td>\n",
       "      <td>1</td>\n",
       "      <td>0</td>\n",
       "    </tr>\n",
       "    <tr>\n",
       "      <th>1</th>\n",
       "      <td>Ealing</td>\n",
       "      <td>Private room</td>\n",
       "      <td>70</td>\n",
       "      <td>2</td>\n",
       "      <td>2</td>\n",
       "      <td>0.07</td>\n",
       "      <td>6</td>\n",
       "      <td>62</td>\n",
       "      <td>0</td>\n",
       "      <td>0</td>\n",
       "      <td>...</td>\n",
       "      <td>0</td>\n",
       "      <td>0</td>\n",
       "      <td>0</td>\n",
       "      <td>0</td>\n",
       "      <td>0</td>\n",
       "      <td>0</td>\n",
       "      <td>0</td>\n",
       "      <td>0</td>\n",
       "      <td>1</td>\n",
       "      <td>0</td>\n",
       "    </tr>\n",
       "    <tr>\n",
       "      <th>2</th>\n",
       "      <td>Islington</td>\n",
       "      <td>Private room</td>\n",
       "      <td>45</td>\n",
       "      <td>1</td>\n",
       "      <td>14</td>\n",
       "      <td>0.14</td>\n",
       "      <td>2</td>\n",
       "      <td>364</td>\n",
       "      <td>0</td>\n",
       "      <td>0</td>\n",
       "      <td>...</td>\n",
       "      <td>0</td>\n",
       "      <td>0</td>\n",
       "      <td>0</td>\n",
       "      <td>0</td>\n",
       "      <td>0</td>\n",
       "      <td>0</td>\n",
       "      <td>0</td>\n",
       "      <td>0</td>\n",
       "      <td>1</td>\n",
       "      <td>0</td>\n",
       "    </tr>\n",
       "    <tr>\n",
       "      <th>3</th>\n",
       "      <td>Tower Hamlets</td>\n",
       "      <td>Entire home/apt</td>\n",
       "      <td>102</td>\n",
       "      <td>5</td>\n",
       "      <td>7</td>\n",
       "      <td>0.07</td>\n",
       "      <td>56</td>\n",
       "      <td>295</td>\n",
       "      <td>0</td>\n",
       "      <td>0</td>\n",
       "      <td>...</td>\n",
       "      <td>0</td>\n",
       "      <td>0</td>\n",
       "      <td>0</td>\n",
       "      <td>1</td>\n",
       "      <td>0</td>\n",
       "      <td>0</td>\n",
       "      <td>0</td>\n",
       "      <td>1</td>\n",
       "      <td>0</td>\n",
       "      <td>0</td>\n",
       "    </tr>\n",
       "    <tr>\n",
       "      <th>4</th>\n",
       "      <td>Barnet</td>\n",
       "      <td>Private room</td>\n",
       "      <td>29</td>\n",
       "      <td>5</td>\n",
       "      <td>114</td>\n",
       "      <td>1.13</td>\n",
       "      <td>3</td>\n",
       "      <td>285</td>\n",
       "      <td>0</td>\n",
       "      <td>1</td>\n",
       "      <td>...</td>\n",
       "      <td>0</td>\n",
       "      <td>0</td>\n",
       "      <td>0</td>\n",
       "      <td>0</td>\n",
       "      <td>0</td>\n",
       "      <td>0</td>\n",
       "      <td>0</td>\n",
       "      <td>0</td>\n",
       "      <td>1</td>\n",
       "      <td>0</td>\n",
       "    </tr>\n",
       "  </tbody>\n",
       "</table>\n",
       "<p>5 rows × 44 columns</p>\n",
       "</div>"
      ],
      "text/plain": [
       "   neighbourhood        room_type  price  minimum_nights  number_of_reviews  \\\n",
       "0       Haringey     Private room     35               1                131   \n",
       "1         Ealing     Private room     70               2                  2   \n",
       "2      Islington     Private room     45               1                 14   \n",
       "3  Tower Hamlets  Entire home/apt    102               5                  7   \n",
       "4         Barnet     Private room     29               5                114   \n",
       "\n",
       "   reviews_per_month  calculated_host_listings_count  availability_365  \\\n",
       "0               1.71                               4               262   \n",
       "1               0.07                               6                62   \n",
       "2               0.14                               2               364   \n",
       "3               0.07                              56               295   \n",
       "4               1.13                               3               285   \n",
       "\n",
       "   Barking and Dagenham  Barnet  ...  Richmond upon Thames  Southwark  Sutton  \\\n",
       "0                     0       0  ...                     0          0       0   \n",
       "1                     0       0  ...                     0          0       0   \n",
       "2                     0       0  ...                     0          0       0   \n",
       "3                     0       0  ...                     0          0       0   \n",
       "4                     0       1  ...                     0          0       0   \n",
       "\n",
       "   Tower Hamlets  Waltham Forest  Wandsworth  Westminster  Entire home/apt  \\\n",
       "0              0               0           0            0                0   \n",
       "1              0               0           0            0                0   \n",
       "2              0               0           0            0                0   \n",
       "3              1               0           0            0                1   \n",
       "4              0               0           0            0                0   \n",
       "\n",
       "   Private room  Shared room  \n",
       "0             1            0  \n",
       "1             1            0  \n",
       "2             1            0  \n",
       "3             0            0  \n",
       "4             1            0  \n",
       "\n",
       "[5 rows x 44 columns]"
      ]
     },
     "execution_count": 16,
     "metadata": {},
     "output_type": "execute_result"
    }
   ],
   "source": [
    "london = pd.concat([london, neigh_dummies,room_dummies], axis=1)\n",
    "london.head()\n"
   ]
  },
  {
   "cell_type": "code",
   "execution_count": 17,
   "metadata": {},
   "outputs": [
    {
     "data": {
      "text/html": [
       "<div>\n",
       "<style scoped>\n",
       "    .dataframe tbody tr th:only-of-type {\n",
       "        vertical-align: middle;\n",
       "    }\n",
       "\n",
       "    .dataframe tbody tr th {\n",
       "        vertical-align: top;\n",
       "    }\n",
       "\n",
       "    .dataframe thead th {\n",
       "        text-align: right;\n",
       "    }\n",
       "</style>\n",
       "<table border=\"1\" class=\"dataframe\">\n",
       "  <thead>\n",
       "    <tr style=\"text-align: right;\">\n",
       "      <th></th>\n",
       "      <th>neighbourhood</th>\n",
       "      <th>room_type</th>\n",
       "      <th>price</th>\n",
       "      <th>minimum_nights</th>\n",
       "      <th>number_of_reviews</th>\n",
       "      <th>reviews_per_month</th>\n",
       "      <th>calculated_host_listings_count</th>\n",
       "      <th>availability_365</th>\n",
       "      <th>Barking and Dagenham</th>\n",
       "      <th>Barnet</th>\n",
       "      <th>...</th>\n",
       "      <th>Richmond upon Thames</th>\n",
       "      <th>Southwark</th>\n",
       "      <th>Sutton</th>\n",
       "      <th>Tower Hamlets</th>\n",
       "      <th>Waltham Forest</th>\n",
       "      <th>Wandsworth</th>\n",
       "      <th>Westminster</th>\n",
       "      <th>Entire home/apt</th>\n",
       "      <th>Private room</th>\n",
       "      <th>Shared room</th>\n",
       "    </tr>\n",
       "  </thead>\n",
       "  <tbody>\n",
       "    <tr>\n",
       "      <th>0</th>\n",
       "      <td>Haringey</td>\n",
       "      <td>Private room</td>\n",
       "      <td>35</td>\n",
       "      <td>1</td>\n",
       "      <td>131</td>\n",
       "      <td>1.71</td>\n",
       "      <td>4</td>\n",
       "      <td>262</td>\n",
       "      <td>0</td>\n",
       "      <td>0</td>\n",
       "      <td>...</td>\n",
       "      <td>0</td>\n",
       "      <td>0</td>\n",
       "      <td>0</td>\n",
       "      <td>0</td>\n",
       "      <td>0</td>\n",
       "      <td>0</td>\n",
       "      <td>0</td>\n",
       "      <td>0</td>\n",
       "      <td>1</td>\n",
       "      <td>0</td>\n",
       "    </tr>\n",
       "    <tr>\n",
       "      <th>1</th>\n",
       "      <td>Ealing</td>\n",
       "      <td>Private room</td>\n",
       "      <td>70</td>\n",
       "      <td>2</td>\n",
       "      <td>2</td>\n",
       "      <td>0.07</td>\n",
       "      <td>6</td>\n",
       "      <td>62</td>\n",
       "      <td>0</td>\n",
       "      <td>0</td>\n",
       "      <td>...</td>\n",
       "      <td>0</td>\n",
       "      <td>0</td>\n",
       "      <td>0</td>\n",
       "      <td>0</td>\n",
       "      <td>0</td>\n",
       "      <td>0</td>\n",
       "      <td>0</td>\n",
       "      <td>0</td>\n",
       "      <td>1</td>\n",
       "      <td>0</td>\n",
       "    </tr>\n",
       "    <tr>\n",
       "      <th>2</th>\n",
       "      <td>Islington</td>\n",
       "      <td>Private room</td>\n",
       "      <td>45</td>\n",
       "      <td>1</td>\n",
       "      <td>14</td>\n",
       "      <td>0.14</td>\n",
       "      <td>2</td>\n",
       "      <td>364</td>\n",
       "      <td>0</td>\n",
       "      <td>0</td>\n",
       "      <td>...</td>\n",
       "      <td>0</td>\n",
       "      <td>0</td>\n",
       "      <td>0</td>\n",
       "      <td>0</td>\n",
       "      <td>0</td>\n",
       "      <td>0</td>\n",
       "      <td>0</td>\n",
       "      <td>0</td>\n",
       "      <td>1</td>\n",
       "      <td>0</td>\n",
       "    </tr>\n",
       "    <tr>\n",
       "      <th>3</th>\n",
       "      <td>Tower Hamlets</td>\n",
       "      <td>Entire home/apt</td>\n",
       "      <td>102</td>\n",
       "      <td>5</td>\n",
       "      <td>7</td>\n",
       "      <td>0.07</td>\n",
       "      <td>56</td>\n",
       "      <td>295</td>\n",
       "      <td>0</td>\n",
       "      <td>0</td>\n",
       "      <td>...</td>\n",
       "      <td>0</td>\n",
       "      <td>0</td>\n",
       "      <td>0</td>\n",
       "      <td>1</td>\n",
       "      <td>0</td>\n",
       "      <td>0</td>\n",
       "      <td>0</td>\n",
       "      <td>1</td>\n",
       "      <td>0</td>\n",
       "      <td>0</td>\n",
       "    </tr>\n",
       "    <tr>\n",
       "      <th>4</th>\n",
       "      <td>Barnet</td>\n",
       "      <td>Private room</td>\n",
       "      <td>29</td>\n",
       "      <td>5</td>\n",
       "      <td>114</td>\n",
       "      <td>1.13</td>\n",
       "      <td>3</td>\n",
       "      <td>285</td>\n",
       "      <td>0</td>\n",
       "      <td>1</td>\n",
       "      <td>...</td>\n",
       "      <td>0</td>\n",
       "      <td>0</td>\n",
       "      <td>0</td>\n",
       "      <td>0</td>\n",
       "      <td>0</td>\n",
       "      <td>0</td>\n",
       "      <td>0</td>\n",
       "      <td>0</td>\n",
       "      <td>1</td>\n",
       "      <td>0</td>\n",
       "    </tr>\n",
       "    <tr>\n",
       "      <th>...</th>\n",
       "      <td>...</td>\n",
       "      <td>...</td>\n",
       "      <td>...</td>\n",
       "      <td>...</td>\n",
       "      <td>...</td>\n",
       "      <td>...</td>\n",
       "      <td>...</td>\n",
       "      <td>...</td>\n",
       "      <td>...</td>\n",
       "      <td>...</td>\n",
       "      <td>...</td>\n",
       "      <td>...</td>\n",
       "      <td>...</td>\n",
       "      <td>...</td>\n",
       "      <td>...</td>\n",
       "      <td>...</td>\n",
       "      <td>...</td>\n",
       "      <td>...</td>\n",
       "      <td>...</td>\n",
       "      <td>...</td>\n",
       "      <td>...</td>\n",
       "    </tr>\n",
       "    <tr>\n",
       "      <th>4995</th>\n",
       "      <td>Tower Hamlets</td>\n",
       "      <td>Entire home/apt</td>\n",
       "      <td>120</td>\n",
       "      <td>3</td>\n",
       "      <td>1</td>\n",
       "      <td>0.02</td>\n",
       "      <td>1</td>\n",
       "      <td>19</td>\n",
       "      <td>0</td>\n",
       "      <td>0</td>\n",
       "      <td>...</td>\n",
       "      <td>0</td>\n",
       "      <td>0</td>\n",
       "      <td>0</td>\n",
       "      <td>1</td>\n",
       "      <td>0</td>\n",
       "      <td>0</td>\n",
       "      <td>0</td>\n",
       "      <td>1</td>\n",
       "      <td>0</td>\n",
       "      <td>0</td>\n",
       "    </tr>\n",
       "    <tr>\n",
       "      <th>4996</th>\n",
       "      <td>Kensington and Chelsea</td>\n",
       "      <td>Entire home/apt</td>\n",
       "      <td>220</td>\n",
       "      <td>2</td>\n",
       "      <td>13</td>\n",
       "      <td>0.27</td>\n",
       "      <td>1</td>\n",
       "      <td>0</td>\n",
       "      <td>0</td>\n",
       "      <td>0</td>\n",
       "      <td>...</td>\n",
       "      <td>0</td>\n",
       "      <td>0</td>\n",
       "      <td>0</td>\n",
       "      <td>0</td>\n",
       "      <td>0</td>\n",
       "      <td>0</td>\n",
       "      <td>0</td>\n",
       "      <td>1</td>\n",
       "      <td>0</td>\n",
       "      <td>0</td>\n",
       "    </tr>\n",
       "    <tr>\n",
       "      <th>4997</th>\n",
       "      <td>Hackney</td>\n",
       "      <td>Private room</td>\n",
       "      <td>62</td>\n",
       "      <td>2</td>\n",
       "      <td>139</td>\n",
       "      <td>2.91</td>\n",
       "      <td>1</td>\n",
       "      <td>330</td>\n",
       "      <td>0</td>\n",
       "      <td>0</td>\n",
       "      <td>...</td>\n",
       "      <td>0</td>\n",
       "      <td>0</td>\n",
       "      <td>0</td>\n",
       "      <td>0</td>\n",
       "      <td>0</td>\n",
       "      <td>0</td>\n",
       "      <td>0</td>\n",
       "      <td>0</td>\n",
       "      <td>1</td>\n",
       "      <td>0</td>\n",
       "    </tr>\n",
       "    <tr>\n",
       "      <th>4998</th>\n",
       "      <td>Camden</td>\n",
       "      <td>Entire home/apt</td>\n",
       "      <td>125</td>\n",
       "      <td>1</td>\n",
       "      <td>62</td>\n",
       "      <td>1.30</td>\n",
       "      <td>3</td>\n",
       "      <td>0</td>\n",
       "      <td>0</td>\n",
       "      <td>0</td>\n",
       "      <td>...</td>\n",
       "      <td>0</td>\n",
       "      <td>0</td>\n",
       "      <td>0</td>\n",
       "      <td>0</td>\n",
       "      <td>0</td>\n",
       "      <td>0</td>\n",
       "      <td>0</td>\n",
       "      <td>1</td>\n",
       "      <td>0</td>\n",
       "      <td>0</td>\n",
       "    </tr>\n",
       "    <tr>\n",
       "      <th>4999</th>\n",
       "      <td>Southwark</td>\n",
       "      <td>Entire home/apt</td>\n",
       "      <td>70</td>\n",
       "      <td>5</td>\n",
       "      <td>3</td>\n",
       "      <td>0.07</td>\n",
       "      <td>1</td>\n",
       "      <td>0</td>\n",
       "      <td>0</td>\n",
       "      <td>0</td>\n",
       "      <td>...</td>\n",
       "      <td>0</td>\n",
       "      <td>1</td>\n",
       "      <td>0</td>\n",
       "      <td>0</td>\n",
       "      <td>0</td>\n",
       "      <td>0</td>\n",
       "      <td>0</td>\n",
       "      <td>1</td>\n",
       "      <td>0</td>\n",
       "      <td>0</td>\n",
       "    </tr>\n",
       "  </tbody>\n",
       "</table>\n",
       "<p>5000 rows × 44 columns</p>\n",
       "</div>"
      ],
      "text/plain": [
       "               neighbourhood        room_type  price  minimum_nights  \\\n",
       "0                   Haringey     Private room     35               1   \n",
       "1                     Ealing     Private room     70               2   \n",
       "2                  Islington     Private room     45               1   \n",
       "3              Tower Hamlets  Entire home/apt    102               5   \n",
       "4                     Barnet     Private room     29               5   \n",
       "...                      ...              ...    ...             ...   \n",
       "4995           Tower Hamlets  Entire home/apt    120               3   \n",
       "4996  Kensington and Chelsea  Entire home/apt    220               2   \n",
       "4997                 Hackney     Private room     62               2   \n",
       "4998                  Camden  Entire home/apt    125               1   \n",
       "4999               Southwark  Entire home/apt     70               5   \n",
       "\n",
       "      number_of_reviews  reviews_per_month  calculated_host_listings_count  \\\n",
       "0                   131               1.71                               4   \n",
       "1                     2               0.07                               6   \n",
       "2                    14               0.14                               2   \n",
       "3                     7               0.07                              56   \n",
       "4                   114               1.13                               3   \n",
       "...                 ...                ...                             ...   \n",
       "4995                  1               0.02                               1   \n",
       "4996                 13               0.27                               1   \n",
       "4997                139               2.91                               1   \n",
       "4998                 62               1.30                               3   \n",
       "4999                  3               0.07                               1   \n",
       "\n",
       "      availability_365  Barking and Dagenham  Barnet  ...  \\\n",
       "0                  262                     0       0  ...   \n",
       "1                   62                     0       0  ...   \n",
       "2                  364                     0       0  ...   \n",
       "3                  295                     0       0  ...   \n",
       "4                  285                     0       1  ...   \n",
       "...                ...                   ...     ...  ...   \n",
       "4995                19                     0       0  ...   \n",
       "4996                 0                     0       0  ...   \n",
       "4997               330                     0       0  ...   \n",
       "4998                 0                     0       0  ...   \n",
       "4999                 0                     0       0  ...   \n",
       "\n",
       "      Richmond upon Thames  Southwark  Sutton  Tower Hamlets  Waltham Forest  \\\n",
       "0                        0          0       0              0               0   \n",
       "1                        0          0       0              0               0   \n",
       "2                        0          0       0              0               0   \n",
       "3                        0          0       0              1               0   \n",
       "4                        0          0       0              0               0   \n",
       "...                    ...        ...     ...            ...             ...   \n",
       "4995                     0          0       0              1               0   \n",
       "4996                     0          0       0              0               0   \n",
       "4997                     0          0       0              0               0   \n",
       "4998                     0          0       0              0               0   \n",
       "4999                     0          1       0              0               0   \n",
       "\n",
       "      Wandsworth  Westminster  Entire home/apt  Private room  Shared room  \n",
       "0              0            0                0             1            0  \n",
       "1              0            0                0             1            0  \n",
       "2              0            0                0             1            0  \n",
       "3              0            0                1             0            0  \n",
       "4              0            0                0             1            0  \n",
       "...          ...          ...              ...           ...          ...  \n",
       "4995           0            0                1             0            0  \n",
       "4996           0            0                1             0            0  \n",
       "4997           0            0                0             1            0  \n",
       "4998           0            0                1             0            0  \n",
       "4999           0            0                1             0            0  \n",
       "\n",
       "[5000 rows x 44 columns]"
      ]
     },
     "execution_count": 17,
     "metadata": {},
     "output_type": "execute_result"
    }
   ],
   "source": [
    "#vamos a usar 5000 lineas por un tema de tiempo de procesamiento de la PC\n",
    "london=london.iloc[:5000]\n",
    "london"
   ]
  },
  {
   "cell_type": "markdown",
   "metadata": {
    "id": "qjPPQtG6kuX_"
   },
   "source": [
    "##### Dividiremos nuestro dataset en la variable dependiente \"y\" (label o etiqueta) y las variables independientes \"x\""
   ]
  },
  {
   "cell_type": "code",
   "execution_count": 18,
   "metadata": {
    "id": "1TZWtiVTkuX_"
   },
   "outputs": [],
   "source": [
    "y = np.array(london[[\"price\"]])\n",
    "x = london.drop(['price', 'neighbourhood','room_type'], axis=1)"
   ]
  },
  {
   "cell_type": "markdown",
   "metadata": {
    "id": "s-2ujF5MkuYA"
   },
   "source": [
    "##### **Objetivo 7**\n",
    "\n",
    "Dividir el dataset entre Train y Test, tomar un test_size del 30%."
   ]
  },
  {
   "cell_type": "code",
   "execution_count": 19,
   "metadata": {
    "id": "SBepVVKIkuYA"
   },
   "outputs": [],
   "source": [
    "x_train, x_test, y_train, y_test = train_test_split(x, y, test_size=0.3, random_state=0)"
   ]
  },
  {
   "cell_type": "markdown",
   "metadata": {
    "id": "mfDnVu6hkuYB"
   },
   "source": [
    "##### **Objetivo 8**\n",
    "Con el StandardScaler generado en la linea siguiente, realizar el transform para el xtrain y xtest guardandolos en nuevas variables llamadas \"xtrain_scal\" y \"xtest_scal\".\n"
   ]
  },
  {
   "cell_type": "code",
   "execution_count": 20,
   "metadata": {},
   "outputs": [
    {
     "data": {
      "text/html": [
       "<div>\n",
       "<style scoped>\n",
       "    .dataframe tbody tr th:only-of-type {\n",
       "        vertical-align: middle;\n",
       "    }\n",
       "\n",
       "    .dataframe tbody tr th {\n",
       "        vertical-align: top;\n",
       "    }\n",
       "\n",
       "    .dataframe thead th {\n",
       "        text-align: right;\n",
       "    }\n",
       "</style>\n",
       "<table border=\"1\" class=\"dataframe\">\n",
       "  <thead>\n",
       "    <tr style=\"text-align: right;\">\n",
       "      <th></th>\n",
       "      <th>minimum_nights</th>\n",
       "      <th>number_of_reviews</th>\n",
       "      <th>reviews_per_month</th>\n",
       "      <th>calculated_host_listings_count</th>\n",
       "      <th>availability_365</th>\n",
       "      <th>Barking and Dagenham</th>\n",
       "      <th>Barnet</th>\n",
       "      <th>Bexley</th>\n",
       "      <th>Brent</th>\n",
       "      <th>Bromley</th>\n",
       "      <th>...</th>\n",
       "      <th>Richmond upon Thames</th>\n",
       "      <th>Southwark</th>\n",
       "      <th>Sutton</th>\n",
       "      <th>Tower Hamlets</th>\n",
       "      <th>Waltham Forest</th>\n",
       "      <th>Wandsworth</th>\n",
       "      <th>Westminster</th>\n",
       "      <th>Entire home/apt</th>\n",
       "      <th>Private room</th>\n",
       "      <th>Shared room</th>\n",
       "    </tr>\n",
       "  </thead>\n",
       "  <tbody>\n",
       "    <tr>\n",
       "      <th>2858</th>\n",
       "      <td>1</td>\n",
       "      <td>230</td>\n",
       "      <td>4.01</td>\n",
       "      <td>1</td>\n",
       "      <td>345</td>\n",
       "      <td>0</td>\n",
       "      <td>0</td>\n",
       "      <td>0</td>\n",
       "      <td>0</td>\n",
       "      <td>0</td>\n",
       "      <td>...</td>\n",
       "      <td>0</td>\n",
       "      <td>0</td>\n",
       "      <td>0</td>\n",
       "      <td>0</td>\n",
       "      <td>0</td>\n",
       "      <td>0</td>\n",
       "      <td>0</td>\n",
       "      <td>0</td>\n",
       "      <td>1</td>\n",
       "      <td>0</td>\n",
       "    </tr>\n",
       "    <tr>\n",
       "      <th>1559</th>\n",
       "      <td>2</td>\n",
       "      <td>2</td>\n",
       "      <td>0.09</td>\n",
       "      <td>1</td>\n",
       "      <td>231</td>\n",
       "      <td>0</td>\n",
       "      <td>0</td>\n",
       "      <td>0</td>\n",
       "      <td>0</td>\n",
       "      <td>0</td>\n",
       "      <td>...</td>\n",
       "      <td>0</td>\n",
       "      <td>0</td>\n",
       "      <td>0</td>\n",
       "      <td>0</td>\n",
       "      <td>0</td>\n",
       "      <td>0</td>\n",
       "      <td>0</td>\n",
       "      <td>0</td>\n",
       "      <td>1</td>\n",
       "      <td>0</td>\n",
       "    </tr>\n",
       "    <tr>\n",
       "      <th>1441</th>\n",
       "      <td>2</td>\n",
       "      <td>17</td>\n",
       "      <td>0.32</td>\n",
       "      <td>4</td>\n",
       "      <td>221</td>\n",
       "      <td>0</td>\n",
       "      <td>0</td>\n",
       "      <td>0</td>\n",
       "      <td>0</td>\n",
       "      <td>0</td>\n",
       "      <td>...</td>\n",
       "      <td>0</td>\n",
       "      <td>0</td>\n",
       "      <td>0</td>\n",
       "      <td>0</td>\n",
       "      <td>0</td>\n",
       "      <td>0</td>\n",
       "      <td>0</td>\n",
       "      <td>0</td>\n",
       "      <td>1</td>\n",
       "      <td>0</td>\n",
       "    </tr>\n",
       "    <tr>\n",
       "      <th>2179</th>\n",
       "      <td>5</td>\n",
       "      <td>32</td>\n",
       "      <td>0.52</td>\n",
       "      <td>3</td>\n",
       "      <td>0</td>\n",
       "      <td>0</td>\n",
       "      <td>0</td>\n",
       "      <td>0</td>\n",
       "      <td>0</td>\n",
       "      <td>0</td>\n",
       "      <td>...</td>\n",
       "      <td>0</td>\n",
       "      <td>1</td>\n",
       "      <td>0</td>\n",
       "      <td>0</td>\n",
       "      <td>0</td>\n",
       "      <td>0</td>\n",
       "      <td>0</td>\n",
       "      <td>0</td>\n",
       "      <td>1</td>\n",
       "      <td>0</td>\n",
       "    </tr>\n",
       "    <tr>\n",
       "      <th>1390</th>\n",
       "      <td>2</td>\n",
       "      <td>36</td>\n",
       "      <td>0.54</td>\n",
       "      <td>1</td>\n",
       "      <td>0</td>\n",
       "      <td>0</td>\n",
       "      <td>0</td>\n",
       "      <td>0</td>\n",
       "      <td>0</td>\n",
       "      <td>0</td>\n",
       "      <td>...</td>\n",
       "      <td>0</td>\n",
       "      <td>0</td>\n",
       "      <td>0</td>\n",
       "      <td>1</td>\n",
       "      <td>0</td>\n",
       "      <td>0</td>\n",
       "      <td>0</td>\n",
       "      <td>1</td>\n",
       "      <td>0</td>\n",
       "      <td>0</td>\n",
       "    </tr>\n",
       "    <tr>\n",
       "      <th>...</th>\n",
       "      <td>...</td>\n",
       "      <td>...</td>\n",
       "      <td>...</td>\n",
       "      <td>...</td>\n",
       "      <td>...</td>\n",
       "      <td>...</td>\n",
       "      <td>...</td>\n",
       "      <td>...</td>\n",
       "      <td>...</td>\n",
       "      <td>...</td>\n",
       "      <td>...</td>\n",
       "      <td>...</td>\n",
       "      <td>...</td>\n",
       "      <td>...</td>\n",
       "      <td>...</td>\n",
       "      <td>...</td>\n",
       "      <td>...</td>\n",
       "      <td>...</td>\n",
       "      <td>...</td>\n",
       "      <td>...</td>\n",
       "      <td>...</td>\n",
       "    </tr>\n",
       "    <tr>\n",
       "      <th>4931</th>\n",
       "      <td>2</td>\n",
       "      <td>34</td>\n",
       "      <td>0.71</td>\n",
       "      <td>1</td>\n",
       "      <td>240</td>\n",
       "      <td>0</td>\n",
       "      <td>0</td>\n",
       "      <td>0</td>\n",
       "      <td>0</td>\n",
       "      <td>0</td>\n",
       "      <td>...</td>\n",
       "      <td>0</td>\n",
       "      <td>0</td>\n",
       "      <td>0</td>\n",
       "      <td>1</td>\n",
       "      <td>0</td>\n",
       "      <td>0</td>\n",
       "      <td>0</td>\n",
       "      <td>1</td>\n",
       "      <td>0</td>\n",
       "      <td>0</td>\n",
       "    </tr>\n",
       "    <tr>\n",
       "      <th>3264</th>\n",
       "      <td>1</td>\n",
       "      <td>23</td>\n",
       "      <td>0.42</td>\n",
       "      <td>2</td>\n",
       "      <td>235</td>\n",
       "      <td>0</td>\n",
       "      <td>0</td>\n",
       "      <td>0</td>\n",
       "      <td>0</td>\n",
       "      <td>0</td>\n",
       "      <td>...</td>\n",
       "      <td>0</td>\n",
       "      <td>0</td>\n",
       "      <td>0</td>\n",
       "      <td>0</td>\n",
       "      <td>0</td>\n",
       "      <td>0</td>\n",
       "      <td>0</td>\n",
       "      <td>0</td>\n",
       "      <td>1</td>\n",
       "      <td>0</td>\n",
       "    </tr>\n",
       "    <tr>\n",
       "      <th>1653</th>\n",
       "      <td>2</td>\n",
       "      <td>72</td>\n",
       "      <td>1.16</td>\n",
       "      <td>1</td>\n",
       "      <td>137</td>\n",
       "      <td>0</td>\n",
       "      <td>0</td>\n",
       "      <td>0</td>\n",
       "      <td>0</td>\n",
       "      <td>0</td>\n",
       "      <td>...</td>\n",
       "      <td>0</td>\n",
       "      <td>0</td>\n",
       "      <td>0</td>\n",
       "      <td>0</td>\n",
       "      <td>0</td>\n",
       "      <td>0</td>\n",
       "      <td>0</td>\n",
       "      <td>1</td>\n",
       "      <td>0</td>\n",
       "      <td>0</td>\n",
       "    </tr>\n",
       "    <tr>\n",
       "      <th>2607</th>\n",
       "      <td>2</td>\n",
       "      <td>22</td>\n",
       "      <td>0.37</td>\n",
       "      <td>2</td>\n",
       "      <td>0</td>\n",
       "      <td>0</td>\n",
       "      <td>0</td>\n",
       "      <td>0</td>\n",
       "      <td>0</td>\n",
       "      <td>0</td>\n",
       "      <td>...</td>\n",
       "      <td>0</td>\n",
       "      <td>0</td>\n",
       "      <td>0</td>\n",
       "      <td>0</td>\n",
       "      <td>0</td>\n",
       "      <td>0</td>\n",
       "      <td>0</td>\n",
       "      <td>1</td>\n",
       "      <td>0</td>\n",
       "      <td>0</td>\n",
       "    </tr>\n",
       "    <tr>\n",
       "      <th>2732</th>\n",
       "      <td>1</td>\n",
       "      <td>60</td>\n",
       "      <td>1.03</td>\n",
       "      <td>1</td>\n",
       "      <td>0</td>\n",
       "      <td>0</td>\n",
       "      <td>0</td>\n",
       "      <td>0</td>\n",
       "      <td>0</td>\n",
       "      <td>0</td>\n",
       "      <td>...</td>\n",
       "      <td>0</td>\n",
       "      <td>0</td>\n",
       "      <td>0</td>\n",
       "      <td>0</td>\n",
       "      <td>0</td>\n",
       "      <td>0</td>\n",
       "      <td>0</td>\n",
       "      <td>1</td>\n",
       "      <td>0</td>\n",
       "      <td>0</td>\n",
       "    </tr>\n",
       "  </tbody>\n",
       "</table>\n",
       "<p>3500 rows × 41 columns</p>\n",
       "</div>"
      ],
      "text/plain": [
       "      minimum_nights  number_of_reviews  reviews_per_month  \\\n",
       "2858               1                230               4.01   \n",
       "1559               2                  2               0.09   \n",
       "1441               2                 17               0.32   \n",
       "2179               5                 32               0.52   \n",
       "1390               2                 36               0.54   \n",
       "...              ...                ...                ...   \n",
       "4931               2                 34               0.71   \n",
       "3264               1                 23               0.42   \n",
       "1653               2                 72               1.16   \n",
       "2607               2                 22               0.37   \n",
       "2732               1                 60               1.03   \n",
       "\n",
       "      calculated_host_listings_count  availability_365  Barking and Dagenham  \\\n",
       "2858                               1               345                     0   \n",
       "1559                               1               231                     0   \n",
       "1441                               4               221                     0   \n",
       "2179                               3                 0                     0   \n",
       "1390                               1                 0                     0   \n",
       "...                              ...               ...                   ...   \n",
       "4931                               1               240                     0   \n",
       "3264                               2               235                     0   \n",
       "1653                               1               137                     0   \n",
       "2607                               2                 0                     0   \n",
       "2732                               1                 0                     0   \n",
       "\n",
       "      Barnet  Bexley  Brent  Bromley  ...  Richmond upon Thames  Southwark  \\\n",
       "2858       0       0      0        0  ...                     0          0   \n",
       "1559       0       0      0        0  ...                     0          0   \n",
       "1441       0       0      0        0  ...                     0          0   \n",
       "2179       0       0      0        0  ...                     0          1   \n",
       "1390       0       0      0        0  ...                     0          0   \n",
       "...      ...     ...    ...      ...  ...                   ...        ...   \n",
       "4931       0       0      0        0  ...                     0          0   \n",
       "3264       0       0      0        0  ...                     0          0   \n",
       "1653       0       0      0        0  ...                     0          0   \n",
       "2607       0       0      0        0  ...                     0          0   \n",
       "2732       0       0      0        0  ...                     0          0   \n",
       "\n",
       "      Sutton  Tower Hamlets  Waltham Forest  Wandsworth  Westminster  \\\n",
       "2858       0              0               0           0            0   \n",
       "1559       0              0               0           0            0   \n",
       "1441       0              0               0           0            0   \n",
       "2179       0              0               0           0            0   \n",
       "1390       0              1               0           0            0   \n",
       "...      ...            ...             ...         ...          ...   \n",
       "4931       0              1               0           0            0   \n",
       "3264       0              0               0           0            0   \n",
       "1653       0              0               0           0            0   \n",
       "2607       0              0               0           0            0   \n",
       "2732       0              0               0           0            0   \n",
       "\n",
       "      Entire home/apt  Private room  Shared room  \n",
       "2858                0             1            0  \n",
       "1559                0             1            0  \n",
       "1441                0             1            0  \n",
       "2179                0             1            0  \n",
       "1390                1             0            0  \n",
       "...               ...           ...          ...  \n",
       "4931                1             0            0  \n",
       "3264                0             1            0  \n",
       "1653                1             0            0  \n",
       "2607                1             0            0  \n",
       "2732                1             0            0  \n",
       "\n",
       "[3500 rows x 41 columns]"
      ]
     },
     "execution_count": 20,
     "metadata": {},
     "output_type": "execute_result"
    }
   ],
   "source": [
    "#previo a escalar separo los dummies del dataframe\n",
    "x_train.head()\n",
    "x_train"
   ]
  },
  {
   "cell_type": "code",
   "execution_count": 21,
   "metadata": {},
   "outputs": [
    {
     "data": {
      "text/html": [
       "<div>\n",
       "<style scoped>\n",
       "    .dataframe tbody tr th:only-of-type {\n",
       "        vertical-align: middle;\n",
       "    }\n",
       "\n",
       "    .dataframe tbody tr th {\n",
       "        vertical-align: top;\n",
       "    }\n",
       "\n",
       "    .dataframe thead th {\n",
       "        text-align: right;\n",
       "    }\n",
       "</style>\n",
       "<table border=\"1\" class=\"dataframe\">\n",
       "  <thead>\n",
       "    <tr style=\"text-align: right;\">\n",
       "      <th></th>\n",
       "      <th>minimum_nights</th>\n",
       "      <th>number_of_reviews</th>\n",
       "      <th>reviews_per_month</th>\n",
       "      <th>calculated_host_listings_count</th>\n",
       "      <th>availability_365</th>\n",
       "    </tr>\n",
       "  </thead>\n",
       "  <tbody>\n",
       "    <tr>\n",
       "      <th>2858</th>\n",
       "      <td>1</td>\n",
       "      <td>230</td>\n",
       "      <td>4.01</td>\n",
       "      <td>1</td>\n",
       "      <td>345</td>\n",
       "    </tr>\n",
       "    <tr>\n",
       "      <th>1559</th>\n",
       "      <td>2</td>\n",
       "      <td>2</td>\n",
       "      <td>0.09</td>\n",
       "      <td>1</td>\n",
       "      <td>231</td>\n",
       "    </tr>\n",
       "    <tr>\n",
       "      <th>1441</th>\n",
       "      <td>2</td>\n",
       "      <td>17</td>\n",
       "      <td>0.32</td>\n",
       "      <td>4</td>\n",
       "      <td>221</td>\n",
       "    </tr>\n",
       "    <tr>\n",
       "      <th>2179</th>\n",
       "      <td>5</td>\n",
       "      <td>32</td>\n",
       "      <td>0.52</td>\n",
       "      <td>3</td>\n",
       "      <td>0</td>\n",
       "    </tr>\n",
       "    <tr>\n",
       "      <th>1390</th>\n",
       "      <td>2</td>\n",
       "      <td>36</td>\n",
       "      <td>0.54</td>\n",
       "      <td>1</td>\n",
       "      <td>0</td>\n",
       "    </tr>\n",
       "  </tbody>\n",
       "</table>\n",
       "</div>"
      ],
      "text/plain": [
       "      minimum_nights  number_of_reviews  reviews_per_month  \\\n",
       "2858               1                230               4.01   \n",
       "1559               2                  2               0.09   \n",
       "1441               2                 17               0.32   \n",
       "2179               5                 32               0.52   \n",
       "1390               2                 36               0.54   \n",
       "\n",
       "      calculated_host_listings_count  availability_365  \n",
       "2858                               1               345  \n",
       "1559                               1               231  \n",
       "1441                               4               221  \n",
       "2179                               3                 0  \n",
       "1390                               1                 0  "
      ]
     },
     "execution_count": 21,
     "metadata": {},
     "output_type": "execute_result"
    }
   ],
   "source": [
    "x1_train=x_train.iloc[:,0:5]\n",
    "x1_train.head()\n",
    "#Train sin dummies"
   ]
  },
  {
   "cell_type": "code",
   "execution_count": 22,
   "metadata": {
    "scrolled": true
   },
   "outputs": [
    {
     "data": {
      "text/html": [
       "<div>\n",
       "<style scoped>\n",
       "    .dataframe tbody tr th:only-of-type {\n",
       "        vertical-align: middle;\n",
       "    }\n",
       "\n",
       "    .dataframe tbody tr th {\n",
       "        vertical-align: top;\n",
       "    }\n",
       "\n",
       "    .dataframe thead th {\n",
       "        text-align: right;\n",
       "    }\n",
       "</style>\n",
       "<table border=\"1\" class=\"dataframe\">\n",
       "  <thead>\n",
       "    <tr style=\"text-align: right;\">\n",
       "      <th></th>\n",
       "      <th>Barking and Dagenham</th>\n",
       "      <th>Barnet</th>\n",
       "      <th>Bexley</th>\n",
       "      <th>Brent</th>\n",
       "      <th>Bromley</th>\n",
       "      <th>Camden</th>\n",
       "      <th>City of London</th>\n",
       "      <th>Croydon</th>\n",
       "      <th>Ealing</th>\n",
       "      <th>Enfield</th>\n",
       "      <th>...</th>\n",
       "      <th>Richmond upon Thames</th>\n",
       "      <th>Southwark</th>\n",
       "      <th>Sutton</th>\n",
       "      <th>Tower Hamlets</th>\n",
       "      <th>Waltham Forest</th>\n",
       "      <th>Wandsworth</th>\n",
       "      <th>Westminster</th>\n",
       "      <th>Entire home/apt</th>\n",
       "      <th>Private room</th>\n",
       "      <th>Shared room</th>\n",
       "    </tr>\n",
       "  </thead>\n",
       "  <tbody>\n",
       "    <tr>\n",
       "      <th>2858</th>\n",
       "      <td>0</td>\n",
       "      <td>0</td>\n",
       "      <td>0</td>\n",
       "      <td>0</td>\n",
       "      <td>0</td>\n",
       "      <td>0</td>\n",
       "      <td>0</td>\n",
       "      <td>0</td>\n",
       "      <td>0</td>\n",
       "      <td>0</td>\n",
       "      <td>...</td>\n",
       "      <td>0</td>\n",
       "      <td>0</td>\n",
       "      <td>0</td>\n",
       "      <td>0</td>\n",
       "      <td>0</td>\n",
       "      <td>0</td>\n",
       "      <td>0</td>\n",
       "      <td>0</td>\n",
       "      <td>1</td>\n",
       "      <td>0</td>\n",
       "    </tr>\n",
       "    <tr>\n",
       "      <th>1559</th>\n",
       "      <td>0</td>\n",
       "      <td>0</td>\n",
       "      <td>0</td>\n",
       "      <td>0</td>\n",
       "      <td>0</td>\n",
       "      <td>0</td>\n",
       "      <td>0</td>\n",
       "      <td>0</td>\n",
       "      <td>1</td>\n",
       "      <td>0</td>\n",
       "      <td>...</td>\n",
       "      <td>0</td>\n",
       "      <td>0</td>\n",
       "      <td>0</td>\n",
       "      <td>0</td>\n",
       "      <td>0</td>\n",
       "      <td>0</td>\n",
       "      <td>0</td>\n",
       "      <td>0</td>\n",
       "      <td>1</td>\n",
       "      <td>0</td>\n",
       "    </tr>\n",
       "    <tr>\n",
       "      <th>1441</th>\n",
       "      <td>0</td>\n",
       "      <td>0</td>\n",
       "      <td>0</td>\n",
       "      <td>0</td>\n",
       "      <td>0</td>\n",
       "      <td>1</td>\n",
       "      <td>0</td>\n",
       "      <td>0</td>\n",
       "      <td>0</td>\n",
       "      <td>0</td>\n",
       "      <td>...</td>\n",
       "      <td>0</td>\n",
       "      <td>0</td>\n",
       "      <td>0</td>\n",
       "      <td>0</td>\n",
       "      <td>0</td>\n",
       "      <td>0</td>\n",
       "      <td>0</td>\n",
       "      <td>0</td>\n",
       "      <td>1</td>\n",
       "      <td>0</td>\n",
       "    </tr>\n",
       "    <tr>\n",
       "      <th>2179</th>\n",
       "      <td>0</td>\n",
       "      <td>0</td>\n",
       "      <td>0</td>\n",
       "      <td>0</td>\n",
       "      <td>0</td>\n",
       "      <td>0</td>\n",
       "      <td>0</td>\n",
       "      <td>0</td>\n",
       "      <td>0</td>\n",
       "      <td>0</td>\n",
       "      <td>...</td>\n",
       "      <td>0</td>\n",
       "      <td>1</td>\n",
       "      <td>0</td>\n",
       "      <td>0</td>\n",
       "      <td>0</td>\n",
       "      <td>0</td>\n",
       "      <td>0</td>\n",
       "      <td>0</td>\n",
       "      <td>1</td>\n",
       "      <td>0</td>\n",
       "    </tr>\n",
       "    <tr>\n",
       "      <th>1390</th>\n",
       "      <td>0</td>\n",
       "      <td>0</td>\n",
       "      <td>0</td>\n",
       "      <td>0</td>\n",
       "      <td>0</td>\n",
       "      <td>0</td>\n",
       "      <td>0</td>\n",
       "      <td>0</td>\n",
       "      <td>0</td>\n",
       "      <td>0</td>\n",
       "      <td>...</td>\n",
       "      <td>0</td>\n",
       "      <td>0</td>\n",
       "      <td>0</td>\n",
       "      <td>1</td>\n",
       "      <td>0</td>\n",
       "      <td>0</td>\n",
       "      <td>0</td>\n",
       "      <td>1</td>\n",
       "      <td>0</td>\n",
       "      <td>0</td>\n",
       "    </tr>\n",
       "  </tbody>\n",
       "</table>\n",
       "<p>5 rows × 36 columns</p>\n",
       "</div>"
      ],
      "text/plain": [
       "      Barking and Dagenham  Barnet  Bexley  Brent  Bromley  Camden  \\\n",
       "2858                     0       0       0      0        0       0   \n",
       "1559                     0       0       0      0        0       0   \n",
       "1441                     0       0       0      0        0       1   \n",
       "2179                     0       0       0      0        0       0   \n",
       "1390                     0       0       0      0        0       0   \n",
       "\n",
       "      City of London  Croydon  Ealing  Enfield  ...  Richmond upon Thames  \\\n",
       "2858               0        0       0        0  ...                     0   \n",
       "1559               0        0       1        0  ...                     0   \n",
       "1441               0        0       0        0  ...                     0   \n",
       "2179               0        0       0        0  ...                     0   \n",
       "1390               0        0       0        0  ...                     0   \n",
       "\n",
       "      Southwark  Sutton  Tower Hamlets  Waltham Forest  Wandsworth  \\\n",
       "2858          0       0              0               0           0   \n",
       "1559          0       0              0               0           0   \n",
       "1441          0       0              0               0           0   \n",
       "2179          1       0              0               0           0   \n",
       "1390          0       0              1               0           0   \n",
       "\n",
       "      Westminster  Entire home/apt  Private room  Shared room  \n",
       "2858            0                0             1            0  \n",
       "1559            0                0             1            0  \n",
       "1441            0                0             1            0  \n",
       "2179            0                0             1            0  \n",
       "1390            0                1             0            0  \n",
       "\n",
       "[5 rows x 36 columns]"
      ]
     },
     "execution_count": 22,
     "metadata": {},
     "output_type": "execute_result"
    }
   ],
   "source": [
    "x2_train=x_train.iloc[:,5:41]\n",
    "x2_train.head()\n",
    "#Train dummies"
   ]
  },
  {
   "cell_type": "code",
   "execution_count": 23,
   "metadata": {
    "id": "QgDYMr1qNfhL"
   },
   "outputs": [],
   "source": [
    "scaler = preprocessing.StandardScaler().fit(x1_train)"
   ]
  },
  {
   "cell_type": "code",
   "execution_count": 24,
   "metadata": {
    "colab": {
     "base_uri": "https://localhost:8080/"
    },
    "id": "PTdTOdUANfhL",
    "outputId": "280ba57f-9fd9-48b9-d4cf-a8434a4dea2d",
    "scrolled": false
   },
   "outputs": [
    {
     "name": "stdout",
     "output_type": "stream",
     "text": [
      "[ 2.03012210e-17  6.09036631e-18  1.09119063e-17 -4.56777473e-18\n",
      " -9.23705556e-17]\n",
      "[1. 1. 1. 1. 1.]\n"
     ]
    }
   ],
   "source": [
    "xtrain_scal = scaler.transform(x1_train)\n",
    "print(xtrain_scal.mean(axis=0))\n",
    "print(xtrain_scal.std(axis=0))"
   ]
  },
  {
   "cell_type": "code",
   "execution_count": 25,
   "metadata": {},
   "outputs": [],
   "source": [
    "#La misma logica que para el train\n",
    "x1_test=x_test.iloc[:,0:5]\n",
    "x2_test=x_test.iloc[:,5:41]"
   ]
  },
  {
   "cell_type": "code",
   "execution_count": 26,
   "metadata": {
    "colab": {
     "base_uri": "https://localhost:8080/"
    },
    "id": "xJX0JJI7kuYC",
    "outputId": "c76861aa-49e9-4c34-c4d4-22fc99717243"
   },
   "outputs": [
    {
     "name": "stdout",
     "output_type": "stream",
     "text": [
      "[ 0.0017758  -0.07269996 -0.08745025  0.0222788  -0.0396277 ]\n",
      "[1.01823669 0.94723951 0.90993815 1.3853538  1.01408136]\n"
     ]
    }
   ],
   "source": [
    "xtest_scal = scaler.transform(x1_test)\n",
    "print(xtest_scal.mean(axis=0))\n",
    "print(xtest_scal.std(axis=0))"
   ]
  },
  {
   "cell_type": "code",
   "execution_count": 27,
   "metadata": {
    "colab": {
     "base_uri": "https://localhost:8080/",
     "height": 496
    },
    "id": "qeEH2FgjoMGW",
    "outputId": "d23281ce-78b7-4677-a5cb-b02ef7f0b44c",
    "scrolled": true
   },
   "outputs": [
    {
     "data": {
      "text/plain": [
       "Text(0.5, 1.0, 'Standarized test data')"
      ]
     },
     "execution_count": 27,
     "metadata": {},
     "output_type": "execute_result"
    },
    {
     "data": {
      "image/png": "[encoded data removed]",
      "text/plain": [
       "<Figure size 1152x360 with 6 Axes>"
      ]
     },
     "metadata": {
      "needs_background": "light"
     },
     "output_type": "display_data"
    }
   ],
   "source": [
    "fig, axs = plt.subplots(1, 3, figsize=(16,5))\n",
    "sns.heatmap(x, ax = axs[0])\n",
    "sns.heatmap(xtrain_scal, ax = axs[1])\n",
    "sns.heatmap(xtest_scal, ax = axs[2])\n",
    "axs[0].set_title('Raw data')\n",
    "axs[1].set_title('Standarized train data')\n",
    "axs[2].set_title('Standarized test data')"
   ]
  },
  {
   "cell_type": "code",
   "execution_count": 28,
   "metadata": {},
   "outputs": [
    {
     "data": {
      "text/plain": [
       "(3500, 5)"
      ]
     },
     "execution_count": 28,
     "metadata": {},
     "output_type": "execute_result"
    }
   ],
   "source": [
    "xtrain_scal.shape"
   ]
  },
  {
   "cell_type": "code",
   "execution_count": 29,
   "metadata": {},
   "outputs": [
    {
     "data": {
      "text/plain": [
       "(3500, 36)"
      ]
     },
     "execution_count": 29,
     "metadata": {},
     "output_type": "execute_result"
    }
   ],
   "source": [
    "x2_train.shape"
   ]
  },
  {
   "cell_type": "code",
   "execution_count": 30,
   "metadata": {},
   "outputs": [
    {
     "data": {
      "text/plain": [
       "(3500, 41)"
      ]
     },
     "execution_count": 30,
     "metadata": {},
     "output_type": "execute_result"
    }
   ],
   "source": [
    "#Volvemos a unificar los dummies\n",
    "xtrain_scal=np.concatenate((xtrain_scal,x2_train),axis=1)\n",
    "xtrain_scal.shape"
   ]
  },
  {
   "cell_type": "code",
   "execution_count": 36,
   "metadata": {},
   "outputs": [
    {
     "data": {
      "text/plain": [
       "(1500, 5)"
      ]
     },
     "execution_count": 36,
     "metadata": {},
     "output_type": "execute_result"
    }
   ],
   "source": [
    "xtest_scal.shape"
   ]
  },
  {
   "cell_type": "code",
   "execution_count": 37,
   "metadata": {},
   "outputs": [
    {
     "data": {
      "text/plain": [
       "(1500, 41)"
      ]
     },
     "execution_count": 37,
     "metadata": {},
     "output_type": "execute_result"
    }
   ],
   "source": [
    "#Idem previo\n",
    "xtest_scal=np.concatenate((xtest_scal,x2_test),axis=1)\n",
    "xtest_scal.shape"
   ]
  },
  {
   "cell_type": "markdown",
   "metadata": {
    "id": "_hkXK5_ckuYC"
   },
   "source": [
    "##### **Objetivo 9**\n",
    "Crear un modelo lineal y entrenarlo para nuestro dataset.\n",
    "\n",
    "Obtener las predicciones y el \"mean_squared_error\" para el test set."
   ]
  },
  {
   "cell_type": "code",
   "execution_count": 65,
   "metadata": {},
   "outputs": [],
   "source": [
    "#Modelo de regresion\n",
    "regli=LinearRegression()\n",
    "regli.fit(xtrain_scal,y_train)\n",
    "Yprediction=regli.predict(xtest_scal)"
   ]
  },
  {
   "cell_type": "code",
   "execution_count": 67,
   "metadata": {},
   "outputs": [
    {
     "data": {
      "text/plain": [
       "1333.2561398925782"
      ]
     },
     "execution_count": 67,
     "metadata": {},
     "output_type": "execute_result"
    }
   ],
   "source": [
    "#Calculamos el error cuadratico medio\n",
    "(mean_squared_error(y_test,Yprediction))"
   ]
  },
  {
   "cell_type": "markdown",
   "metadata": {
    "id": "yQpkINPIkuYD"
   },
   "source": [
    "##### **Objetivo 10**\n",
    "Crear un SVM Regressor y un GridSearch para realizar la búsqueda de hiperparámetros.\n",
    "\n",
    "Asignar dos posibles valores para el parámetro \"kernel\", y tres posibles valores para \"C\" y \"gamma\".\n",
    "\n",
    "Setear al parámetro \"refit\" en True y hacer 5 CrossValidation."
   ]
  },
  {
   "cell_type": "code",
   "execution_count": 50,
   "metadata": {},
   "outputs": [],
   "source": [
    "from sklearn import svm, datasets\n",
    "from sklearn.model_selection import GridSearchCV\n",
    "from sklearn.svm import SVC\n",
    "svc = svm.SVC()"
   ]
  },
  {
   "cell_type": "code",
   "execution_count": 51,
   "metadata": {
    "id": "JK2ZKv6ONfhM"
   },
   "outputs": [],
   "source": [
    "parameters = {'kernel':('linear', 'rbf'),\n",
    "              'C':[1, 10, 100],\n",
    "              'gamma':[0.0005,0.005, 0.5]}\n"
   ]
  },
  {
   "cell_type": "code",
   "execution_count": 52,
   "metadata": {
    "colab": {
     "base_uri": "https://localhost:8080/",
     "height": 394
    },
    "id": "7CD4cIYUkuYE",
    "outputId": "9624c21c-161f-47ff-f81a-48a96ab8eb95",
    "scrolled": true
   },
   "outputs": [
    {
     "name": "stdout",
     "output_type": "stream",
     "text": [
      "Fitting 5 folds for each of 18 candidates, totalling 90 fits\n"
     ]
    },
    {
     "name": "stderr",
     "output_type": "stream",
     "text": [
      "D:\\Anaconda\\lib\\site-packages\\sklearn\\model_selection\\_split.py:676: UserWarning: The least populated class in y has only 1 members, which is less than n_splits=5.\n",
      "  warnings.warn(\n"
     ]
    },
    {
     "name": "stdout",
     "output_type": "stream",
     "text": [
      "[CV 1/5] END ..C=1, gamma=0.0005, kernel=linear;, score=0.060 total time=   1.8s\n",
      "[CV 2/5] END ..C=1, gamma=0.0005, kernel=linear;, score=0.079 total time=   1.8s\n",
      "[CV 3/5] END ..C=1, gamma=0.0005, kernel=linear;, score=0.073 total time=   1.9s\n",
      "[CV 4/5] END ..C=1, gamma=0.0005, kernel=linear;, score=0.073 total time=   1.9s\n",
      "[CV 5/5] END ..C=1, gamma=0.0005, kernel=linear;, score=0.071 total time=   2.0s\n",
      "[CV 1/5] END .....C=1, gamma=0.0005, kernel=rbf;, score=0.039 total time=   1.6s\n",
      "[CV 2/5] END .....C=1, gamma=0.0005, kernel=rbf;, score=0.040 total time=   1.6s\n",
      "[CV 3/5] END .....C=1, gamma=0.0005, kernel=rbf;, score=0.040 total time=   1.6s\n",
      "[CV 4/5] END .....C=1, gamma=0.0005, kernel=rbf;, score=0.040 total time=   1.6s\n",
      "[CV 5/5] END .....C=1, gamma=0.0005, kernel=rbf;, score=0.039 total time=   1.6s\n",
      "[CV 1/5] END ...C=1, gamma=0.005, kernel=linear;, score=0.060 total time=   1.9s\n",
      "[CV 2/5] END ...C=1, gamma=0.005, kernel=linear;, score=0.079 total time=   1.9s\n",
      "[CV 3/5] END ...C=1, gamma=0.005, kernel=linear;, score=0.073 total time=   1.9s\n",
      "[CV 4/5] END ...C=1, gamma=0.005, kernel=linear;, score=0.073 total time=   1.9s\n",
      "[CV 5/5] END ...C=1, gamma=0.005, kernel=linear;, score=0.071 total time=   1.9s\n",
      "[CV 1/5] END ......C=1, gamma=0.005, kernel=rbf;, score=0.057 total time=   1.8s\n",
      "[CV 2/5] END ......C=1, gamma=0.005, kernel=rbf;, score=0.061 total time=   1.7s\n",
      "[CV 3/5] END ......C=1, gamma=0.005, kernel=rbf;, score=0.069 total time=   1.8s\n",
      "[CV 4/5] END ......C=1, gamma=0.005, kernel=rbf;, score=0.066 total time=   1.8s\n",
      "[CV 5/5] END ......C=1, gamma=0.005, kernel=rbf;, score=0.064 total time=   1.7s\n",
      "[CV 1/5] END .....C=1, gamma=0.5, kernel=linear;, score=0.060 total time=   1.9s\n",
      "[CV 2/5] END .....C=1, gamma=0.5, kernel=linear;, score=0.079 total time=   2.1s\n",
      "[CV 3/5] END .....C=1, gamma=0.5, kernel=linear;, score=0.073 total time=   1.9s\n",
      "[CV 4/5] END .....C=1, gamma=0.5, kernel=linear;, score=0.073 total time=   2.0s\n",
      "[CV 5/5] END .....C=1, gamma=0.5, kernel=linear;, score=0.071 total time=   1.9s\n",
      "[CV 1/5] END ........C=1, gamma=0.5, kernel=rbf;, score=0.064 total time=   2.6s\n",
      "[CV 2/5] END ........C=1, gamma=0.5, kernel=rbf;, score=0.076 total time=   2.6s\n",
      "[CV 3/5] END ........C=1, gamma=0.5, kernel=rbf;, score=0.051 total time=   2.5s\n",
      "[CV 4/5] END ........C=1, gamma=0.5, kernel=rbf;, score=0.077 total time=   2.5s\n",
      "[CV 5/5] END ........C=1, gamma=0.5, kernel=rbf;, score=0.083 total time=   2.5s\n",
      "[CV 1/5] END .C=10, gamma=0.0005, kernel=linear;, score=0.067 total time=   3.3s\n",
      "[CV 2/5] END .C=10, gamma=0.0005, kernel=linear;, score=0.069 total time=   3.2s\n",
      "[CV 3/5] END .C=10, gamma=0.0005, kernel=linear;, score=0.077 total time=   3.0s\n",
      "[CV 4/5] END .C=10, gamma=0.0005, kernel=linear;, score=0.071 total time=   3.0s\n",
      "[CV 5/5] END .C=10, gamma=0.0005, kernel=linear;, score=0.070 total time=   3.2s\n",
      "[CV 1/5] END ....C=10, gamma=0.0005, kernel=rbf;, score=0.057 total time=   1.7s\n",
      "[CV 2/5] END ....C=10, gamma=0.0005, kernel=rbf;, score=0.061 total time=   1.7s\n",
      "[CV 3/5] END ....C=10, gamma=0.0005, kernel=rbf;, score=0.069 total time=   1.7s\n",
      "[CV 4/5] END ....C=10, gamma=0.0005, kernel=rbf;, score=0.066 total time=   1.7s\n",
      "[CV 5/5] END ....C=10, gamma=0.0005, kernel=rbf;, score=0.064 total time=   1.6s\n",
      "[CV 1/5] END ..C=10, gamma=0.005, kernel=linear;, score=0.067 total time=   3.2s\n",
      "[CV 2/5] END ..C=10, gamma=0.005, kernel=linear;, score=0.069 total time=   3.1s\n",
      "[CV 3/5] END ..C=10, gamma=0.005, kernel=linear;, score=0.077 total time=   3.0s\n",
      "[CV 4/5] END ..C=10, gamma=0.005, kernel=linear;, score=0.071 total time=   3.1s\n",
      "[CV 5/5] END ..C=10, gamma=0.005, kernel=linear;, score=0.070 total time=   3.3s\n",
      "[CV 1/5] END .....C=10, gamma=0.005, kernel=rbf;, score=0.059 total time=   1.9s\n",
      "[CV 2/5] END .....C=10, gamma=0.005, kernel=rbf;, score=0.071 total time=   1.8s\n",
      "[CV 3/5] END .....C=10, gamma=0.005, kernel=rbf;, score=0.077 total time=   1.9s\n",
      "[CV 4/5] END .....C=10, gamma=0.005, kernel=rbf;, score=0.060 total time=   1.9s\n",
      "[CV 5/5] END .....C=10, gamma=0.005, kernel=rbf;, score=0.071 total time=   1.9s\n",
      "[CV 1/5] END ....C=10, gamma=0.5, kernel=linear;, score=0.067 total time=   3.2s\n",
      "[CV 2/5] END ....C=10, gamma=0.5, kernel=linear;, score=0.069 total time=   3.2s\n",
      "[CV 3/5] END ....C=10, gamma=0.5, kernel=linear;, score=0.077 total time=   3.1s\n",
      "[CV 4/5] END ....C=10, gamma=0.5, kernel=linear;, score=0.071 total time=   3.0s\n",
      "[CV 5/5] END ....C=10, gamma=0.5, kernel=linear;, score=0.070 total time=   3.2s\n",
      "[CV 1/5] END .......C=10, gamma=0.5, kernel=rbf;, score=0.057 total time=   2.5s\n",
      "[CV 2/5] END .......C=10, gamma=0.5, kernel=rbf;, score=0.057 total time=   2.5s\n",
      "[CV 3/5] END .......C=10, gamma=0.5, kernel=rbf;, score=0.037 total time=   2.5s\n",
      "[CV 4/5] END .......C=10, gamma=0.5, kernel=rbf;, score=0.066 total time=   2.6s\n",
      "[CV 5/5] END .......C=10, gamma=0.5, kernel=rbf;, score=0.073 total time=   2.5s\n",
      "[CV 1/5] END C=100, gamma=0.0005, kernel=linear;, score=0.063 total time=  12.9s\n",
      "[CV 2/5] END C=100, gamma=0.0005, kernel=linear;, score=0.067 total time=  11.9s\n",
      "[CV 3/5] END C=100, gamma=0.0005, kernel=linear;, score=0.063 total time=  13.0s\n",
      "[CV 4/5] END C=100, gamma=0.0005, kernel=linear;, score=0.069 total time=  12.2s\n",
      "[CV 5/5] END C=100, gamma=0.0005, kernel=linear;, score=0.069 total time=  13.7s\n",
      "[CV 1/5] END ...C=100, gamma=0.0005, kernel=rbf;, score=0.056 total time=   1.9s\n",
      "[CV 2/5] END ...C=100, gamma=0.0005, kernel=rbf;, score=0.074 total time=   2.0s\n",
      "[CV 3/5] END ...C=100, gamma=0.0005, kernel=rbf;, score=0.074 total time=   1.9s\n",
      "[CV 4/5] END ...C=100, gamma=0.0005, kernel=rbf;, score=0.061 total time=   1.9s\n",
      "[CV 5/5] END ...C=100, gamma=0.0005, kernel=rbf;, score=0.067 total time=   1.9s\n",
      "[CV 1/5] END .C=100, gamma=0.005, kernel=linear;, score=0.063 total time=  12.6s\n",
      "[CV 2/5] END .C=100, gamma=0.005, kernel=linear;, score=0.067 total time=  11.9s\n",
      "[CV 3/5] END .C=100, gamma=0.005, kernel=linear;, score=0.063 total time=  12.8s\n",
      "[CV 4/5] END .C=100, gamma=0.005, kernel=linear;, score=0.069 total time=  12.1s\n",
      "[CV 5/5] END .C=100, gamma=0.005, kernel=linear;, score=0.069 total time=  13.5s\n",
      "[CV 1/5] END ....C=100, gamma=0.005, kernel=rbf;, score=0.064 total time=   2.1s\n",
      "[CV 2/5] END ....C=100, gamma=0.005, kernel=rbf;, score=0.081 total time=   2.1s\n",
      "[CV 3/5] END ....C=100, gamma=0.005, kernel=rbf;, score=0.064 total time=   2.0s\n",
      "[CV 4/5] END ....C=100, gamma=0.005, kernel=rbf;, score=0.073 total time=   2.0s\n",
      "[CV 5/5] END ....C=100, gamma=0.005, kernel=rbf;, score=0.071 total time=   2.0s\n",
      "[CV 1/5] END ...C=100, gamma=0.5, kernel=linear;, score=0.063 total time=  12.8s\n",
      "[CV 2/5] END ...C=100, gamma=0.5, kernel=linear;, score=0.067 total time=  12.0s\n",
      "[CV 3/5] END ...C=100, gamma=0.5, kernel=linear;, score=0.063 total time=  13.0s\n",
      "[CV 4/5] END ...C=100, gamma=0.5, kernel=linear;, score=0.069 total time=  12.2s\n",
      "[CV 5/5] END ...C=100, gamma=0.5, kernel=linear;, score=0.069 total time=  13.7s\n",
      "[CV 1/5] END ......C=100, gamma=0.5, kernel=rbf;, score=0.050 total time=   2.6s\n",
      "[CV 2/5] END ......C=100, gamma=0.5, kernel=rbf;, score=0.050 total time=   2.5s\n",
      "[CV 3/5] END ......C=100, gamma=0.5, kernel=rbf;, score=0.036 total time=   2.5s\n",
      "[CV 4/5] END ......C=100, gamma=0.5, kernel=rbf;, score=0.051 total time=   2.5s\n",
      "[CV 5/5] END ......C=100, gamma=0.5, kernel=rbf;, score=0.074 total time=   2.5s\n"
     ]
    },
    {
     "data": {
      "text/plain": [
       "GridSearchCV(cv=5, estimator=SVC(),\n",
       "             param_grid={'C': [1, 10, 100], 'gamma': [0.0005, 0.005, 0.5],\n",
       "                         'kernel': ('linear', 'rbf')},\n",
       "             verbose=3)"
      ]
     },
     "execution_count": 52,
     "metadata": {},
     "output_type": "execute_result"
    }
   ],
   "source": [
    "clf = GridSearchCV(svc,param_grid = parameters,refit = True,cv = 5,verbose=3)\n",
    "clf.fit(xtrain_scal, y_train.ravel())"
   ]
  },
  {
   "cell_type": "code",
   "execution_count": 53,
   "metadata": {},
   "outputs": [],
   "source": [
    "scores = clf.cv_results_\n"
   ]
  },
  {
   "cell_type": "code",
   "execution_count": 54,
   "metadata": {
    "scrolled": true
   },
   "outputs": [
    {
     "data": {
      "text/html": [
       "<div>\n",
       "<style scoped>\n",
       "    .dataframe tbody tr th:only-of-type {\n",
       "        vertical-align: middle;\n",
       "    }\n",
       "\n",
       "    .dataframe tbody tr th {\n",
       "        vertical-align: top;\n",
       "    }\n",
       "\n",
       "    .dataframe thead th {\n",
       "        text-align: right;\n",
       "    }\n",
       "</style>\n",
       "<table border=\"1\" class=\"dataframe\">\n",
       "  <thead>\n",
       "    <tr style=\"text-align: right;\">\n",
       "      <th></th>\n",
       "      <th>mean_fit_time</th>\n",
       "      <th>std_fit_time</th>\n",
       "      <th>mean_score_time</th>\n",
       "      <th>std_score_time</th>\n",
       "      <th>param_C</th>\n",
       "      <th>param_gamma</th>\n",
       "      <th>param_kernel</th>\n",
       "      <th>params</th>\n",
       "      <th>split0_test_score</th>\n",
       "      <th>split1_test_score</th>\n",
       "      <th>split2_test_score</th>\n",
       "      <th>split3_test_score</th>\n",
       "      <th>split4_test_score</th>\n",
       "      <th>mean_test_score</th>\n",
       "      <th>std_test_score</th>\n",
       "      <th>rank_test_score</th>\n",
       "    </tr>\n",
       "  </thead>\n",
       "  <tbody>\n",
       "    <tr>\n",
       "      <th>0</th>\n",
       "      <td>1.330455</td>\n",
       "      <td>0.019169</td>\n",
       "      <td>0.638084</td>\n",
       "      <td>0.032531</td>\n",
       "      <td>1</td>\n",
       "      <td>0.0005</td>\n",
       "      <td>linear</td>\n",
       "      <td>{'C': 1, 'gamma': 0.0005, 'kernel': 'linear'}</td>\n",
       "      <td>0.060000</td>\n",
       "      <td>0.078571</td>\n",
       "      <td>0.072857</td>\n",
       "      <td>0.072857</td>\n",
       "      <td>0.071429</td>\n",
       "      <td>0.071143</td>\n",
       "      <td>0.006088</td>\n",
       "      <td>1</td>\n",
       "    </tr>\n",
       "    <tr>\n",
       "      <th>1</th>\n",
       "      <td>0.933419</td>\n",
       "      <td>0.005417</td>\n",
       "      <td>0.744549</td>\n",
       "      <td>0.012373</td>\n",
       "      <td>1</td>\n",
       "      <td>0.0005</td>\n",
       "      <td>rbf</td>\n",
       "      <td>{'C': 1, 'gamma': 0.0005, 'kernel': 'rbf'}</td>\n",
       "      <td>0.038571</td>\n",
       "      <td>0.040000</td>\n",
       "      <td>0.040000</td>\n",
       "      <td>0.040000</td>\n",
       "      <td>0.038571</td>\n",
       "      <td>0.039429</td>\n",
       "      <td>0.000700</td>\n",
       "      <td>18</td>\n",
       "    </tr>\n",
       "    <tr>\n",
       "      <th>2</th>\n",
       "      <td>1.341001</td>\n",
       "      <td>0.022904</td>\n",
       "      <td>0.646345</td>\n",
       "      <td>0.011988</td>\n",
       "      <td>1</td>\n",
       "      <td>0.005</td>\n",
       "      <td>linear</td>\n",
       "      <td>{'C': 1, 'gamma': 0.005, 'kernel': 'linear'}</td>\n",
       "      <td>0.060000</td>\n",
       "      <td>0.078571</td>\n",
       "      <td>0.072857</td>\n",
       "      <td>0.072857</td>\n",
       "      <td>0.071429</td>\n",
       "      <td>0.071143</td>\n",
       "      <td>0.006088</td>\n",
       "      <td>1</td>\n",
       "    </tr>\n",
       "    <tr>\n",
       "      <th>3</th>\n",
       "      <td>1.092020</td>\n",
       "      <td>0.021017</td>\n",
       "      <td>0.769923</td>\n",
       "      <td>0.028936</td>\n",
       "      <td>1</td>\n",
       "      <td>0.005</td>\n",
       "      <td>rbf</td>\n",
       "      <td>{'C': 1, 'gamma': 0.005, 'kernel': 'rbf'}</td>\n",
       "      <td>0.057143</td>\n",
       "      <td>0.061429</td>\n",
       "      <td>0.068571</td>\n",
       "      <td>0.065714</td>\n",
       "      <td>0.064286</td>\n",
       "      <td>0.063429</td>\n",
       "      <td>0.003897</td>\n",
       "      <td>14</td>\n",
       "    </tr>\n",
       "    <tr>\n",
       "      <th>4</th>\n",
       "      <td>1.343809</td>\n",
       "      <td>0.011471</td>\n",
       "      <td>0.689345</td>\n",
       "      <td>0.068275</td>\n",
       "      <td>1</td>\n",
       "      <td>0.5</td>\n",
       "      <td>linear</td>\n",
       "      <td>{'C': 1, 'gamma': 0.5, 'kernel': 'linear'}</td>\n",
       "      <td>0.060000</td>\n",
       "      <td>0.078571</td>\n",
       "      <td>0.072857</td>\n",
       "      <td>0.072857</td>\n",
       "      <td>0.071429</td>\n",
       "      <td>0.071143</td>\n",
       "      <td>0.006088</td>\n",
       "      <td>1</td>\n",
       "    </tr>\n",
       "  </tbody>\n",
       "</table>\n",
       "</div>"
      ],
      "text/plain": [
       "   mean_fit_time  std_fit_time  mean_score_time  std_score_time param_C  \\\n",
       "0       1.330455      0.019169         0.638084        0.032531       1   \n",
       "1       0.933419      0.005417         0.744549        0.012373       1   \n",
       "2       1.341001      0.022904         0.646345        0.011988       1   \n",
       "3       1.092020      0.021017         0.769923        0.028936       1   \n",
       "4       1.343809      0.011471         0.689345        0.068275       1   \n",
       "\n",
       "  param_gamma param_kernel                                         params  \\\n",
       "0      0.0005       linear  {'C': 1, 'gamma': 0.0005, 'kernel': 'linear'}   \n",
       "1      0.0005          rbf     {'C': 1, 'gamma': 0.0005, 'kernel': 'rbf'}   \n",
       "2       0.005       linear   {'C': 1, 'gamma': 0.005, 'kernel': 'linear'}   \n",
       "3       0.005          rbf      {'C': 1, 'gamma': 0.005, 'kernel': 'rbf'}   \n",
       "4         0.5       linear     {'C': 1, 'gamma': 0.5, 'kernel': 'linear'}   \n",
       "\n",
       "   split0_test_score  split1_test_score  split2_test_score  split3_test_score  \\\n",
       "0           0.060000           0.078571           0.072857           0.072857   \n",
       "1           0.038571           0.040000           0.040000           0.040000   \n",
       "2           0.060000           0.078571           0.072857           0.072857   \n",
       "3           0.057143           0.061429           0.068571           0.065714   \n",
       "4           0.060000           0.078571           0.072857           0.072857   \n",
       "\n",
       "   split4_test_score  mean_test_score  std_test_score  rank_test_score  \n",
       "0           0.071429         0.071143        0.006088                1  \n",
       "1           0.038571         0.039429        0.000700               18  \n",
       "2           0.071429         0.071143        0.006088                1  \n",
       "3           0.064286         0.063429        0.003897               14  \n",
       "4           0.071429         0.071143        0.006088                1  "
      ]
     },
     "execution_count": 54,
     "metadata": {},
     "output_type": "execute_result"
    }
   ],
   "source": [
    "scores_df = pd.DataFrame.from_dict(scores)\n",
    "scores_df.head()"
   ]
  },
  {
   "cell_type": "code",
   "execution_count": null,
   "metadata": {},
   "outputs": [],
   "source": []
  },
  {
   "cell_type": "markdown",
   "metadata": {
    "id": "YOuBv_mfkuYG"
   },
   "source": [
    "##### **Objetivo 11**\n",
    "\n",
    "Mostrar cuales fueron los mejores hiperparámetros y para estos obtener el mean_squared_error en el test set."
   ]
  },
  {
   "cell_type": "code",
   "execution_count": 64,
   "metadata": {
    "id": "vlMZBccQNfhN"
   },
   "outputs": [
    {
     "name": "stdout",
     "output_type": "stream",
     "text": [
      "Los mejores parametros son {'C': 1, 'gamma': 0.0005, 'kernel': 'linear'} con un score de 0.071\n"
     ]
    }
   ],
   "source": [
    "print(\"Los mejores parametros son %s con un score de %0.3f\" % (clf.best_params_, clf.best_score_))"
   ]
  },
  {
   "cell_type": "code",
   "execution_count": 68,
   "metadata": {
    "id": "fc8mozfEkuYH"
   },
   "outputs": [
    {
     "name": "stdout",
     "output_type": "stream",
     "text": [
      "[150  50 225 ...  45  45  35]\n"
     ]
    }
   ],
   "source": [
    "Yprediction2=clf.predict(xtest_scal)\n",
    "print(Yprediction2)"
   ]
  },
  {
   "cell_type": "code",
   "execution_count": 69,
   "metadata": {},
   "outputs": [
    {
     "data": {
      "text/plain": [
       "1664.934"
      ]
     },
     "execution_count": 69,
     "metadata": {},
     "output_type": "execute_result"
    }
   ],
   "source": [
    "#Calculamos el nuevo error cuadratico medio\n",
    "(mean_squared_error(y_test,Yprediction2))"
   ]
  },
  {
   "cell_type": "code",
   "execution_count": null,
   "metadata": {},
   "outputs": [],
   "source": [
    "#Podemos ver que es mayor que aquel de la regresion lineal."
   ]
  },
  {
   "cell_type": "markdown",
   "metadata": {
    "id": "IJQSlAT_kuYH"
   },
   "source": [
    "##### **Objetivo 12**\n",
    "Repetir el objetivo 10 pero ahora seteando nuevos valores para los hiperparámetros mencionados con el objetivo de mejorar las predicciones.\n",
    "\n",
    "Cuales son los mejores hiperparámetros ahora?\n",
    "Obtenemos una mejora en las predicciones?\n",
    "Mostrar los resultados."
   ]
  },
  {
   "cell_type": "code",
   "execution_count": null,
   "metadata": {
    "id": "LmYGwWhokuYI"
   },
   "outputs": [],
   "source": [
    "#Volvemos a realizar el gridsearch pero cambiamos los parametros"
   ]
  },
  {
   "cell_type": "code",
   "execution_count": 70,
   "metadata": {
    "id": "WyMHn-XYn5Uv"
   },
   "outputs": [],
   "source": [
    "parameters2 = {'kernel':('linear', 'rbf'),\n",
    "              'C':[0.5, 1, 10],\n",
    "              'gamma':[0.0003,0.0005, 0.001]}"
   ]
  },
  {
   "cell_type": "code",
   "execution_count": 71,
   "metadata": {
    "id": "GyUOMDd7kuYI"
   },
   "outputs": [
    {
     "name": "stdout",
     "output_type": "stream",
     "text": [
      "Fitting 5 folds for each of 18 candidates, totalling 90 fits\n"
     ]
    },
    {
     "name": "stderr",
     "output_type": "stream",
     "text": [
      "D:\\Anaconda\\lib\\site-packages\\sklearn\\model_selection\\_split.py:676: UserWarning: The least populated class in y has only 1 members, which is less than n_splits=5.\n",
      "  warnings.warn(\n"
     ]
    },
    {
     "name": "stdout",
     "output_type": "stream",
     "text": [
      "[CV 1/5] END C=0.5, gamma=0.0003, kernel=linear;, score=0.060 total time=   1.6s\n",
      "[CV 2/5] END C=0.5, gamma=0.0003, kernel=linear;, score=0.084 total time=   1.6s\n",
      "[CV 3/5] END C=0.5, gamma=0.0003, kernel=linear;, score=0.071 total time=   1.5s\n",
      "[CV 4/5] END C=0.5, gamma=0.0003, kernel=linear;, score=0.071 total time=   1.6s\n",
      "[CV 5/5] END C=0.5, gamma=0.0003, kernel=linear;, score=0.066 total time=   1.6s\n",
      "[CV 1/5] END ...C=0.5, gamma=0.0003, kernel=rbf;, score=0.039 total time=   1.4s\n",
      "[CV 2/5] END ...C=0.5, gamma=0.0003, kernel=rbf;, score=0.040 total time=   1.4s\n",
      "[CV 3/5] END ...C=0.5, gamma=0.0003, kernel=rbf;, score=0.040 total time=   1.3s\n",
      "[CV 4/5] END ...C=0.5, gamma=0.0003, kernel=rbf;, score=0.040 total time=   1.4s\n",
      "[CV 5/5] END ...C=0.5, gamma=0.0003, kernel=rbf;, score=0.039 total time=   1.3s\n",
      "[CV 1/5] END C=0.5, gamma=0.0005, kernel=linear;, score=0.060 total time=   1.5s\n",
      "[CV 2/5] END C=0.5, gamma=0.0005, kernel=linear;, score=0.084 total time=   1.5s\n",
      "[CV 3/5] END C=0.5, gamma=0.0005, kernel=linear;, score=0.071 total time=   1.5s\n",
      "[CV 4/5] END C=0.5, gamma=0.0005, kernel=linear;, score=0.071 total time=   1.5s\n",
      "[CV 5/5] END C=0.5, gamma=0.0005, kernel=linear;, score=0.066 total time=   1.5s\n",
      "[CV 1/5] END ...C=0.5, gamma=0.0005, kernel=rbf;, score=0.039 total time=   1.4s\n",
      "[CV 2/5] END ...C=0.5, gamma=0.0005, kernel=rbf;, score=0.040 total time=   1.4s\n",
      "[CV 3/5] END ...C=0.5, gamma=0.0005, kernel=rbf;, score=0.040 total time=   1.3s\n",
      "[CV 4/5] END ...C=0.5, gamma=0.0005, kernel=rbf;, score=0.040 total time=   1.4s\n",
      "[CV 5/5] END ...C=0.5, gamma=0.0005, kernel=rbf;, score=0.039 total time=   1.4s\n",
      "[CV 1/5] END .C=0.5, gamma=0.001, kernel=linear;, score=0.060 total time=   1.5s\n",
      "[CV 2/5] END .C=0.5, gamma=0.001, kernel=linear;, score=0.084 total time=   1.5s\n",
      "[CV 3/5] END .C=0.5, gamma=0.001, kernel=linear;, score=0.071 total time=   1.5s\n",
      "[CV 4/5] END .C=0.5, gamma=0.001, kernel=linear;, score=0.071 total time=   1.5s\n",
      "[CV 5/5] END .C=0.5, gamma=0.001, kernel=linear;, score=0.066 total time=   1.5s\n",
      "[CV 1/5] END ....C=0.5, gamma=0.001, kernel=rbf;, score=0.039 total time=   1.4s\n",
      "[CV 2/5] END ....C=0.5, gamma=0.001, kernel=rbf;, score=0.040 total time=   1.4s\n",
      "[CV 3/5] END ....C=0.5, gamma=0.001, kernel=rbf;, score=0.040 total time=   1.4s\n",
      "[CV 4/5] END ....C=0.5, gamma=0.001, kernel=rbf;, score=0.040 total time=   1.5s\n",
      "[CV 5/5] END ....C=0.5, gamma=0.001, kernel=rbf;, score=0.039 total time=   1.4s\n",
      "[CV 1/5] END ..C=1, gamma=0.0003, kernel=linear;, score=0.060 total time=   1.7s\n",
      "[CV 2/5] END ..C=1, gamma=0.0003, kernel=linear;, score=0.079 total time=   1.7s\n",
      "[CV 3/5] END ..C=1, gamma=0.0003, kernel=linear;, score=0.073 total time=   1.7s\n",
      "[CV 4/5] END ..C=1, gamma=0.0003, kernel=linear;, score=0.073 total time=   1.7s\n",
      "[CV 5/5] END ..C=1, gamma=0.0003, kernel=linear;, score=0.071 total time=   1.7s\n",
      "[CV 1/5] END .....C=1, gamma=0.0003, kernel=rbf;, score=0.039 total time=   1.4s\n",
      "[CV 2/5] END .....C=1, gamma=0.0003, kernel=rbf;, score=0.040 total time=   1.4s\n",
      "[CV 3/5] END .....C=1, gamma=0.0003, kernel=rbf;, score=0.040 total time=   1.4s\n",
      "[CV 4/5] END .....C=1, gamma=0.0003, kernel=rbf;, score=0.040 total time=   1.5s\n",
      "[CV 5/5] END .....C=1, gamma=0.0003, kernel=rbf;, score=0.039 total time=   1.4s\n",
      "[CV 1/5] END ..C=1, gamma=0.0005, kernel=linear;, score=0.060 total time=   1.7s\n",
      "[CV 2/5] END ..C=1, gamma=0.0005, kernel=linear;, score=0.079 total time=   1.7s\n",
      "[CV 3/5] END ..C=1, gamma=0.0005, kernel=linear;, score=0.073 total time=   1.7s\n",
      "[CV 4/5] END ..C=1, gamma=0.0005, kernel=linear;, score=0.073 total time=   1.7s\n",
      "[CV 5/5] END ..C=1, gamma=0.0005, kernel=linear;, score=0.071 total time=   1.7s\n",
      "[CV 1/5] END .....C=1, gamma=0.0005, kernel=rbf;, score=0.039 total time=   1.4s\n",
      "[CV 2/5] END .....C=1, gamma=0.0005, kernel=rbf;, score=0.040 total time=   1.4s\n",
      "[CV 3/5] END .....C=1, gamma=0.0005, kernel=rbf;, score=0.040 total time=   1.4s\n",
      "[CV 4/5] END .....C=1, gamma=0.0005, kernel=rbf;, score=0.040 total time=   1.5s\n",
      "[CV 5/5] END .....C=1, gamma=0.0005, kernel=rbf;, score=0.039 total time=   1.4s\n",
      "[CV 1/5] END ...C=1, gamma=0.001, kernel=linear;, score=0.060 total time=   1.7s\n",
      "[CV 2/5] END ...C=1, gamma=0.001, kernel=linear;, score=0.079 total time=   1.7s\n",
      "[CV 3/5] END ...C=1, gamma=0.001, kernel=linear;, score=0.073 total time=   1.7s\n",
      "[CV 4/5] END ...C=1, gamma=0.001, kernel=linear;, score=0.073 total time=   1.7s\n",
      "[CV 5/5] END ...C=1, gamma=0.001, kernel=linear;, score=0.071 total time=   1.7s\n",
      "[CV 1/5] END ......C=1, gamma=0.001, kernel=rbf;, score=0.039 total time=   1.5s\n",
      "[CV 2/5] END ......C=1, gamma=0.001, kernel=rbf;, score=0.040 total time=   1.5s\n",
      "[CV 3/5] END ......C=1, gamma=0.001, kernel=rbf;, score=0.040 total time=   1.5s\n",
      "[CV 4/5] END ......C=1, gamma=0.001, kernel=rbf;, score=0.040 total time=   1.5s\n",
      "[CV 5/5] END ......C=1, gamma=0.001, kernel=rbf;, score=0.039 total time=   1.5s\n",
      "[CV 1/5] END .C=10, gamma=0.0003, kernel=linear;, score=0.067 total time=   2.9s\n",
      "[CV 2/5] END .C=10, gamma=0.0003, kernel=linear;, score=0.069 total time=   2.9s\n",
      "[CV 3/5] END .C=10, gamma=0.0003, kernel=linear;, score=0.077 total time=   2.8s\n",
      "[CV 4/5] END .C=10, gamma=0.0003, kernel=linear;, score=0.071 total time=   2.8s\n",
      "[CV 5/5] END .C=10, gamma=0.0003, kernel=linear;, score=0.070 total time=   3.0s\n",
      "[CV 1/5] END ....C=10, gamma=0.0003, kernel=rbf;, score=0.047 total time=   1.5s\n",
      "[CV 2/5] END ....C=10, gamma=0.0003, kernel=rbf;, score=0.059 total time=   1.5s\n",
      "[CV 3/5] END ....C=10, gamma=0.0003, kernel=rbf;, score=0.050 total time=   1.5s\n",
      "[CV 4/5] END ....C=10, gamma=0.0003, kernel=rbf;, score=0.057 total time=   1.5s\n",
      "[CV 5/5] END ....C=10, gamma=0.0003, kernel=rbf;, score=0.050 total time=   1.5s\n",
      "[CV 1/5] END .C=10, gamma=0.0005, kernel=linear;, score=0.067 total time=   2.9s\n",
      "[CV 2/5] END .C=10, gamma=0.0005, kernel=linear;, score=0.069 total time=   3.0s\n",
      "[CV 3/5] END .C=10, gamma=0.0005, kernel=linear;, score=0.077 total time=   2.8s\n",
      "[CV 4/5] END .C=10, gamma=0.0005, kernel=linear;, score=0.071 total time=   2.8s\n",
      "[CV 5/5] END .C=10, gamma=0.0005, kernel=linear;, score=0.070 total time=   3.0s\n",
      "[CV 1/5] END ....C=10, gamma=0.0005, kernel=rbf;, score=0.057 total time=   1.6s\n",
      "[CV 2/5] END ....C=10, gamma=0.0005, kernel=rbf;, score=0.061 total time=   1.6s\n",
      "[CV 3/5] END ....C=10, gamma=0.0005, kernel=rbf;, score=0.069 total time=   1.5s\n",
      "[CV 4/5] END ....C=10, gamma=0.0005, kernel=rbf;, score=0.066 total time=   1.6s\n",
      "[CV 5/5] END ....C=10, gamma=0.0005, kernel=rbf;, score=0.064 total time=   1.6s\n",
      "[CV 1/5] END ..C=10, gamma=0.001, kernel=linear;, score=0.067 total time=   3.0s\n",
      "[CV 2/5] END ..C=10, gamma=0.001, kernel=linear;, score=0.069 total time=   2.9s\n",
      "[CV 3/5] END ..C=10, gamma=0.001, kernel=linear;, score=0.077 total time=   2.9s\n",
      "[CV 4/5] END ..C=10, gamma=0.001, kernel=linear;, score=0.071 total time=   2.9s\n",
      "[CV 5/5] END ..C=10, gamma=0.001, kernel=linear;, score=0.070 total time=   3.1s\n",
      "[CV 1/5] END .....C=10, gamma=0.001, kernel=rbf;, score=0.059 total time=   1.6s\n",
      "[CV 2/5] END .....C=10, gamma=0.001, kernel=rbf;, score=0.066 total time=   1.6s\n",
      "[CV 3/5] END .....C=10, gamma=0.001, kernel=rbf;, score=0.069 total time=   1.6s\n",
      "[CV 4/5] END .....C=10, gamma=0.001, kernel=rbf;, score=0.059 total time=   1.6s\n",
      "[CV 5/5] END .....C=10, gamma=0.001, kernel=rbf;, score=0.063 total time=   1.6s\n"
     ]
    },
    {
     "data": {
      "text/plain": [
       "GridSearchCV(cv=5, estimator=SVC(),\n",
       "             param_grid={'C': [0.5, 1, 10], 'gamma': [0.0003, 0.0005, 0.001],\n",
       "                         'kernel': ('linear', 'rbf')},\n",
       "             verbose=3)"
      ]
     },
     "execution_count": 71,
     "metadata": {},
     "output_type": "execute_result"
    }
   ],
   "source": [
    "clf = GridSearchCV(svc,param_grid = parameters2,refit = True,cv = 5,verbose=3)\n",
    "clf.fit(xtrain_scal, y_train.ravel())"
   ]
  },
  {
   "cell_type": "code",
   "execution_count": 72,
   "metadata": {
    "id": "ZJ0-nJNHkuYJ",
    "scrolled": false
   },
   "outputs": [
    {
     "data": {
      "text/html": [
       "<div>\n",
       "<style scoped>\n",
       "    .dataframe tbody tr th:only-of-type {\n",
       "        vertical-align: middle;\n",
       "    }\n",
       "\n",
       "    .dataframe tbody tr th {\n",
       "        vertical-align: top;\n",
       "    }\n",
       "\n",
       "    .dataframe thead th {\n",
       "        text-align: right;\n",
       "    }\n",
       "</style>\n",
       "<table border=\"1\" class=\"dataframe\">\n",
       "  <thead>\n",
       "    <tr style=\"text-align: right;\">\n",
       "      <th></th>\n",
       "      <th>mean_fit_time</th>\n",
       "      <th>std_fit_time</th>\n",
       "      <th>mean_score_time</th>\n",
       "      <th>std_score_time</th>\n",
       "      <th>param_C</th>\n",
       "      <th>param_gamma</th>\n",
       "      <th>param_kernel</th>\n",
       "      <th>params</th>\n",
       "      <th>split0_test_score</th>\n",
       "      <th>split1_test_score</th>\n",
       "      <th>split2_test_score</th>\n",
       "      <th>split3_test_score</th>\n",
       "      <th>split4_test_score</th>\n",
       "      <th>mean_test_score</th>\n",
       "      <th>std_test_score</th>\n",
       "      <th>rank_test_score</th>\n",
       "    </tr>\n",
       "  </thead>\n",
       "  <tbody>\n",
       "    <tr>\n",
       "      <th>0</th>\n",
       "      <td>1.105850</td>\n",
       "      <td>0.012001</td>\n",
       "      <td>0.554323</td>\n",
       "      <td>0.004338</td>\n",
       "      <td>0.5</td>\n",
       "      <td>0.0003</td>\n",
       "      <td>linear</td>\n",
       "      <td>{'C': 0.5, 'gamma': 0.0003, 'kernel': 'linear'}</td>\n",
       "      <td>0.060000</td>\n",
       "      <td>0.084286</td>\n",
       "      <td>0.071429</td>\n",
       "      <td>0.071429</td>\n",
       "      <td>0.065714</td>\n",
       "      <td>0.070571</td>\n",
       "      <td>0.008061</td>\n",
       "      <td>7</td>\n",
       "    </tr>\n",
       "    <tr>\n",
       "      <th>1</th>\n",
       "      <td>0.799659</td>\n",
       "      <td>0.014597</td>\n",
       "      <td>0.665625</td>\n",
       "      <td>0.018797</td>\n",
       "      <td>0.5</td>\n",
       "      <td>0.0003</td>\n",
       "      <td>rbf</td>\n",
       "      <td>{'C': 0.5, 'gamma': 0.0003, 'kernel': 'rbf'}</td>\n",
       "      <td>0.038571</td>\n",
       "      <td>0.040000</td>\n",
       "      <td>0.040000</td>\n",
       "      <td>0.040000</td>\n",
       "      <td>0.038571</td>\n",
       "      <td>0.039429</td>\n",
       "      <td>0.000700</td>\n",
       "      <td>13</td>\n",
       "    </tr>\n",
       "    <tr>\n",
       "      <th>2</th>\n",
       "      <td>1.087089</td>\n",
       "      <td>0.006577</td>\n",
       "      <td>0.530988</td>\n",
       "      <td>0.008318</td>\n",
       "      <td>0.5</td>\n",
       "      <td>0.0005</td>\n",
       "      <td>linear</td>\n",
       "      <td>{'C': 0.5, 'gamma': 0.0005, 'kernel': 'linear'}</td>\n",
       "      <td>0.060000</td>\n",
       "      <td>0.084286</td>\n",
       "      <td>0.071429</td>\n",
       "      <td>0.071429</td>\n",
       "      <td>0.065714</td>\n",
       "      <td>0.070571</td>\n",
       "      <td>0.008061</td>\n",
       "      <td>7</td>\n",
       "    </tr>\n",
       "    <tr>\n",
       "      <th>3</th>\n",
       "      <td>0.824797</td>\n",
       "      <td>0.004972</td>\n",
       "      <td>0.651258</td>\n",
       "      <td>0.029448</td>\n",
       "      <td>0.5</td>\n",
       "      <td>0.0005</td>\n",
       "      <td>rbf</td>\n",
       "      <td>{'C': 0.5, 'gamma': 0.0005, 'kernel': 'rbf'}</td>\n",
       "      <td>0.038571</td>\n",
       "      <td>0.040000</td>\n",
       "      <td>0.040000</td>\n",
       "      <td>0.040000</td>\n",
       "      <td>0.038571</td>\n",
       "      <td>0.039429</td>\n",
       "      <td>0.000700</td>\n",
       "      <td>13</td>\n",
       "    </tr>\n",
       "    <tr>\n",
       "      <th>4</th>\n",
       "      <td>1.085299</td>\n",
       "      <td>0.008144</td>\n",
       "      <td>0.532781</td>\n",
       "      <td>0.007207</td>\n",
       "      <td>0.5</td>\n",
       "      <td>0.001</td>\n",
       "      <td>linear</td>\n",
       "      <td>{'C': 0.5, 'gamma': 0.001, 'kernel': 'linear'}</td>\n",
       "      <td>0.060000</td>\n",
       "      <td>0.084286</td>\n",
       "      <td>0.071429</td>\n",
       "      <td>0.071429</td>\n",
       "      <td>0.065714</td>\n",
       "      <td>0.070571</td>\n",
       "      <td>0.008061</td>\n",
       "      <td>7</td>\n",
       "    </tr>\n",
       "  </tbody>\n",
       "</table>\n",
       "</div>"
      ],
      "text/plain": [
       "   mean_fit_time  std_fit_time  mean_score_time  std_score_time param_C  \\\n",
       "0       1.105850      0.012001         0.554323        0.004338     0.5   \n",
       "1       0.799659      0.014597         0.665625        0.018797     0.5   \n",
       "2       1.087089      0.006577         0.530988        0.008318     0.5   \n",
       "3       0.824797      0.004972         0.651258        0.029448     0.5   \n",
       "4       1.085299      0.008144         0.532781        0.007207     0.5   \n",
       "\n",
       "  param_gamma param_kernel                                           params  \\\n",
       "0      0.0003       linear  {'C': 0.5, 'gamma': 0.0003, 'kernel': 'linear'}   \n",
       "1      0.0003          rbf     {'C': 0.5, 'gamma': 0.0003, 'kernel': 'rbf'}   \n",
       "2      0.0005       linear  {'C': 0.5, 'gamma': 0.0005, 'kernel': 'linear'}   \n",
       "3      0.0005          rbf     {'C': 0.5, 'gamma': 0.0005, 'kernel': 'rbf'}   \n",
       "4       0.001       linear   {'C': 0.5, 'gamma': 0.001, 'kernel': 'linear'}   \n",
       "\n",
       "   split0_test_score  split1_test_score  split2_test_score  split3_test_score  \\\n",
       "0           0.060000           0.084286           0.071429           0.071429   \n",
       "1           0.038571           0.040000           0.040000           0.040000   \n",
       "2           0.060000           0.084286           0.071429           0.071429   \n",
       "3           0.038571           0.040000           0.040000           0.040000   \n",
       "4           0.060000           0.084286           0.071429           0.071429   \n",
       "\n",
       "   split4_test_score  mean_test_score  std_test_score  rank_test_score  \n",
       "0           0.065714         0.070571        0.008061                7  \n",
       "1           0.038571         0.039429        0.000700               13  \n",
       "2           0.065714         0.070571        0.008061                7  \n",
       "3           0.038571         0.039429        0.000700               13  \n",
       "4           0.065714         0.070571        0.008061                7  "
      ]
     },
     "execution_count": 72,
     "metadata": {},
     "output_type": "execute_result"
    }
   ],
   "source": [
    "scores=clf.cv_results_\n",
    "scores_df=pd.DataFrame.from_dict(scores)\n",
    "scores_df.head()"
   ]
  },
  {
   "cell_type": "code",
   "execution_count": 73,
   "metadata": {},
   "outputs": [
    {
     "name": "stdout",
     "output_type": "stream",
     "text": [
      "Los Mejores Parametros son {'C': 1, 'gamma': 0.0003, 'kernel': 'linear'} con un score de 0.071\n"
     ]
    }
   ],
   "source": [
    "print(\"Los Mejores Parametros son %s con un score de %0.3f\" % (clf.best_params_, clf.best_score_))"
   ]
  },
  {
   "cell_type": "code",
   "execution_count": 74,
   "metadata": {},
   "outputs": [
    {
     "name": "stdout",
     "output_type": "stream",
     "text": [
      "[150  50 225 ...  45  45  35]\n"
     ]
    }
   ],
   "source": [
    "Yprediction3=clf.predict(xtest_scal)\n",
    "print(Yprediction3)"
   ]
  },
  {
   "cell_type": "code",
   "execution_count": 76,
   "metadata": {},
   "outputs": [
    {
     "data": {
      "text/plain": [
       "1664.934"
      ]
     },
     "execution_count": 76,
     "metadata": {},
     "output_type": "execute_result"
    }
   ],
   "source": [
    "(mean_squared_error(y_test,Yprediction3))"
   ]
  },
  {
   "cell_type": "code",
   "execution_count": null,
   "metadata": {},
   "outputs": [],
   "source": [
    "#No veo cambios en el ECM, sigo con otros hiperparametros"
   ]
  },
  {
   "cell_type": "code",
   "execution_count": 77,
   "metadata": {},
   "outputs": [],
   "source": [
    "parameters3 = {'kernel':('linear', 'rbf'),\n",
    "              'C':[0.5, 1, 2],\n",
    "              'gamma':[0.00005,0.0001, 0.0003]}"
   ]
  },
  {
   "cell_type": "code",
   "execution_count": 78,
   "metadata": {},
   "outputs": [
    {
     "name": "stdout",
     "output_type": "stream",
     "text": [
      "Fitting 5 folds for each of 18 candidates, totalling 90 fits\n"
     ]
    },
    {
     "name": "stderr",
     "output_type": "stream",
     "text": [
      "D:\\Anaconda\\lib\\site-packages\\sklearn\\model_selection\\_split.py:676: UserWarning: The least populated class in y has only 1 members, which is less than n_splits=5.\n",
      "  warnings.warn(\n"
     ]
    },
    {
     "name": "stdout",
     "output_type": "stream",
     "text": [
      "[CV 1/5] END .C=0.5, gamma=5e-05, kernel=linear;, score=0.060 total time=   1.6s\n",
      "[CV 2/5] END .C=0.5, gamma=5e-05, kernel=linear;, score=0.084 total time=   1.6s\n",
      "[CV 3/5] END .C=0.5, gamma=5e-05, kernel=linear;, score=0.071 total time=   1.5s\n",
      "[CV 4/5] END .C=0.5, gamma=5e-05, kernel=linear;, score=0.071 total time=   1.5s\n",
      "[CV 5/5] END .C=0.5, gamma=5e-05, kernel=linear;, score=0.066 total time=   1.5s\n",
      "[CV 1/5] END ....C=0.5, gamma=5e-05, kernel=rbf;, score=0.039 total time=   1.3s\n",
      "[CV 2/5] END ....C=0.5, gamma=5e-05, kernel=rbf;, score=0.040 total time=   1.3s\n",
      "[CV 3/5] END ....C=0.5, gamma=5e-05, kernel=rbf;, score=0.040 total time=   1.3s\n",
      "[CV 4/5] END ....C=0.5, gamma=5e-05, kernel=rbf;, score=0.040 total time=   1.2s\n",
      "[CV 5/5] END ....C=0.5, gamma=5e-05, kernel=rbf;, score=0.039 total time=   1.3s\n",
      "[CV 1/5] END C=0.5, gamma=0.0001, kernel=linear;, score=0.060 total time=   1.5s\n",
      "[CV 2/5] END C=0.5, gamma=0.0001, kernel=linear;, score=0.084 total time=   1.5s\n",
      "[CV 3/5] END C=0.5, gamma=0.0001, kernel=linear;, score=0.071 total time=   1.6s\n",
      "[CV 4/5] END C=0.5, gamma=0.0001, kernel=linear;, score=0.071 total time=   1.5s\n",
      "[CV 5/5] END C=0.5, gamma=0.0001, kernel=linear;, score=0.066 total time=   1.5s\n",
      "[CV 1/5] END ...C=0.5, gamma=0.0001, kernel=rbf;, score=0.039 total time=   1.3s\n",
      "[CV 2/5] END ...C=0.5, gamma=0.0001, kernel=rbf;, score=0.040 total time=   1.3s\n",
      "[CV 3/5] END ...C=0.5, gamma=0.0001, kernel=rbf;, score=0.040 total time=   1.3s\n",
      "[CV 4/5] END ...C=0.5, gamma=0.0001, kernel=rbf;, score=0.040 total time=   1.3s\n",
      "[CV 5/5] END ...C=0.5, gamma=0.0001, kernel=rbf;, score=0.039 total time=   1.3s\n",
      "[CV 1/5] END C=0.5, gamma=0.0003, kernel=linear;, score=0.060 total time=   1.5s\n",
      "[CV 2/5] END C=0.5, gamma=0.0003, kernel=linear;, score=0.084 total time=   1.5s\n",
      "[CV 3/5] END C=0.5, gamma=0.0003, kernel=linear;, score=0.071 total time=   1.6s\n",
      "[CV 4/5] END C=0.5, gamma=0.0003, kernel=linear;, score=0.071 total time=   1.5s\n",
      "[CV 5/5] END C=0.5, gamma=0.0003, kernel=linear;, score=0.066 total time=   1.5s\n",
      "[CV 1/5] END ...C=0.5, gamma=0.0003, kernel=rbf;, score=0.039 total time=   1.3s\n",
      "[CV 2/5] END ...C=0.5, gamma=0.0003, kernel=rbf;, score=0.040 total time=   1.3s\n",
      "[CV 3/5] END ...C=0.5, gamma=0.0003, kernel=rbf;, score=0.040 total time=   1.3s\n",
      "[CV 4/5] END ...C=0.5, gamma=0.0003, kernel=rbf;, score=0.040 total time=   1.3s\n",
      "[CV 5/5] END ...C=0.5, gamma=0.0003, kernel=rbf;, score=0.039 total time=   1.3s\n",
      "[CV 1/5] END ...C=1, gamma=5e-05, kernel=linear;, score=0.060 total time=   1.7s\n",
      "[CV 2/5] END ...C=1, gamma=5e-05, kernel=linear;, score=0.079 total time=   1.7s\n",
      "[CV 3/5] END ...C=1, gamma=5e-05, kernel=linear;, score=0.073 total time=   1.7s\n",
      "[CV 4/5] END ...C=1, gamma=5e-05, kernel=linear;, score=0.073 total time=   1.7s\n",
      "[CV 5/5] END ...C=1, gamma=5e-05, kernel=linear;, score=0.071 total time=   1.7s\n",
      "[CV 1/5] END ......C=1, gamma=5e-05, kernel=rbf;, score=0.039 total time=   1.3s\n",
      "[CV 2/5] END ......C=1, gamma=5e-05, kernel=rbf;, score=0.040 total time=   1.3s\n",
      "[CV 3/5] END ......C=1, gamma=5e-05, kernel=rbf;, score=0.040 total time=   1.3s\n",
      "[CV 4/5] END ......C=1, gamma=5e-05, kernel=rbf;, score=0.040 total time=   1.3s\n",
      "[CV 5/5] END ......C=1, gamma=5e-05, kernel=rbf;, score=0.039 total time=   1.3s\n",
      "[CV 1/5] END ..C=1, gamma=0.0001, kernel=linear;, score=0.060 total time=   1.7s\n",
      "[CV 2/5] END ..C=1, gamma=0.0001, kernel=linear;, score=0.079 total time=   1.7s\n",
      "[CV 3/5] END ..C=1, gamma=0.0001, kernel=linear;, score=0.073 total time=   1.7s\n",
      "[CV 4/5] END ..C=1, gamma=0.0001, kernel=linear;, score=0.073 total time=   1.7s\n",
      "[CV 5/5] END ..C=1, gamma=0.0001, kernel=linear;, score=0.071 total time=   1.7s\n",
      "[CV 1/5] END .....C=1, gamma=0.0001, kernel=rbf;, score=0.039 total time=   1.3s\n",
      "[CV 2/5] END .....C=1, gamma=0.0001, kernel=rbf;, score=0.040 total time=   1.3s\n",
      "[CV 3/5] END .....C=1, gamma=0.0001, kernel=rbf;, score=0.040 total time=   1.3s\n",
      "[CV 4/5] END .....C=1, gamma=0.0001, kernel=rbf;, score=0.040 total time=   1.3s\n",
      "[CV 5/5] END .....C=1, gamma=0.0001, kernel=rbf;, score=0.039 total time=   1.3s\n",
      "[CV 1/5] END ..C=1, gamma=0.0003, kernel=linear;, score=0.060 total time=   1.7s\n",
      "[CV 2/5] END ..C=1, gamma=0.0003, kernel=linear;, score=0.079 total time=   1.7s\n",
      "[CV 3/5] END ..C=1, gamma=0.0003, kernel=linear;, score=0.073 total time=   1.7s\n",
      "[CV 4/5] END ..C=1, gamma=0.0003, kernel=linear;, score=0.073 total time=   1.7s\n",
      "[CV 5/5] END ..C=1, gamma=0.0003, kernel=linear;, score=0.071 total time=   1.7s\n",
      "[CV 1/5] END .....C=1, gamma=0.0003, kernel=rbf;, score=0.039 total time=   1.4s\n",
      "[CV 2/5] END .....C=1, gamma=0.0003, kernel=rbf;, score=0.040 total time=   1.4s\n",
      "[CV 3/5] END .....C=1, gamma=0.0003, kernel=rbf;, score=0.040 total time=   1.4s\n",
      "[CV 4/5] END .....C=1, gamma=0.0003, kernel=rbf;, score=0.040 total time=   1.4s\n",
      "[CV 5/5] END .....C=1, gamma=0.0003, kernel=rbf;, score=0.039 total time=   1.4s\n",
      "[CV 1/5] END ...C=2, gamma=5e-05, kernel=linear;, score=0.064 total time=   1.9s\n",
      "[CV 2/5] END ...C=2, gamma=5e-05, kernel=linear;, score=0.074 total time=   1.9s\n",
      "[CV 3/5] END ...C=2, gamma=5e-05, kernel=linear;, score=0.067 total time=   2.0s\n",
      "[CV 4/5] END ...C=2, gamma=5e-05, kernel=linear;, score=0.077 total time=   1.9s\n",
      "[CV 5/5] END ...C=2, gamma=5e-05, kernel=linear;, score=0.070 total time=   1.9s\n",
      "[CV 1/5] END ......C=2, gamma=5e-05, kernel=rbf;, score=0.039 total time=   1.3s\n",
      "[CV 2/5] END ......C=2, gamma=5e-05, kernel=rbf;, score=0.040 total time=   1.3s\n",
      "[CV 3/5] END ......C=2, gamma=5e-05, kernel=rbf;, score=0.040 total time=   1.3s\n",
      "[CV 4/5] END ......C=2, gamma=5e-05, kernel=rbf;, score=0.040 total time=   1.3s\n",
      "[CV 5/5] END ......C=2, gamma=5e-05, kernel=rbf;, score=0.039 total time=   1.3s\n",
      "[CV 1/5] END ..C=2, gamma=0.0001, kernel=linear;, score=0.064 total time=   2.0s\n",
      "[CV 2/5] END ..C=2, gamma=0.0001, kernel=linear;, score=0.074 total time=   2.0s\n",
      "[CV 3/5] END ..C=2, gamma=0.0001, kernel=linear;, score=0.067 total time=   2.0s\n",
      "[CV 4/5] END ..C=2, gamma=0.0001, kernel=linear;, score=0.077 total time=   2.0s\n",
      "[CV 5/5] END ..C=2, gamma=0.0001, kernel=linear;, score=0.070 total time=   2.1s\n",
      "[CV 1/5] END .....C=2, gamma=0.0001, kernel=rbf;, score=0.039 total time=   1.4s\n",
      "[CV 2/5] END .....C=2, gamma=0.0001, kernel=rbf;, score=0.040 total time=   1.4s\n",
      "[CV 3/5] END .....C=2, gamma=0.0001, kernel=rbf;, score=0.040 total time=   1.3s\n",
      "[CV 4/5] END .....C=2, gamma=0.0001, kernel=rbf;, score=0.040 total time=   1.3s\n",
      "[CV 5/5] END .....C=2, gamma=0.0001, kernel=rbf;, score=0.039 total time=   1.3s\n",
      "[CV 1/5] END ..C=2, gamma=0.0003, kernel=linear;, score=0.064 total time=   2.0s\n",
      "[CV 2/5] END ..C=2, gamma=0.0003, kernel=linear;, score=0.074 total time=   1.9s\n",
      "[CV 3/5] END ..C=2, gamma=0.0003, kernel=linear;, score=0.067 total time=   1.9s\n",
      "[CV 4/5] END ..C=2, gamma=0.0003, kernel=linear;, score=0.077 total time=   1.9s\n",
      "[CV 5/5] END ..C=2, gamma=0.0003, kernel=linear;, score=0.070 total time=   2.0s\n",
      "[CV 1/5] END .....C=2, gamma=0.0003, kernel=rbf;, score=0.039 total time=   1.4s\n",
      "[CV 2/5] END .....C=2, gamma=0.0003, kernel=rbf;, score=0.040 total time=   1.4s\n",
      "[CV 3/5] END .....C=2, gamma=0.0003, kernel=rbf;, score=0.040 total time=   1.4s\n",
      "[CV 4/5] END .....C=2, gamma=0.0003, kernel=rbf;, score=0.040 total time=   1.4s\n",
      "[CV 5/5] END .....C=2, gamma=0.0003, kernel=rbf;, score=0.039 total time=   1.5s\n"
     ]
    },
    {
     "data": {
      "text/plain": [
       "GridSearchCV(cv=5, estimator=SVC(),\n",
       "             param_grid={'C': [0.5, 1, 2], 'gamma': [5e-05, 0.0001, 0.0003],\n",
       "                         'kernel': ('linear', 'rbf')},\n",
       "             verbose=3)"
      ]
     },
     "execution_count": 78,
     "metadata": {},
     "output_type": "execute_result"
    }
   ],
   "source": [
    "clf = GridSearchCV(svc,param_grid = parameters3,refit = True,cv = 5,verbose=3)\n",
    "clf.fit(xtrain_scal, y_train.ravel())"
   ]
  },
  {
   "cell_type": "code",
   "execution_count": 79,
   "metadata": {},
   "outputs": [
    {
     "data": {
      "text/html": [
       "<div>\n",
       "<style scoped>\n",
       "    .dataframe tbody tr th:only-of-type {\n",
       "        vertical-align: middle;\n",
       "    }\n",
       "\n",
       "    .dataframe tbody tr th {\n",
       "        vertical-align: top;\n",
       "    }\n",
       "\n",
       "    .dataframe thead th {\n",
       "        text-align: right;\n",
       "    }\n",
       "</style>\n",
       "<table border=\"1\" class=\"dataframe\">\n",
       "  <thead>\n",
       "    <tr style=\"text-align: right;\">\n",
       "      <th></th>\n",
       "      <th>mean_fit_time</th>\n",
       "      <th>std_fit_time</th>\n",
       "      <th>mean_score_time</th>\n",
       "      <th>std_score_time</th>\n",
       "      <th>param_C</th>\n",
       "      <th>param_gamma</th>\n",
       "      <th>param_kernel</th>\n",
       "      <th>params</th>\n",
       "      <th>split0_test_score</th>\n",
       "      <th>split1_test_score</th>\n",
       "      <th>split2_test_score</th>\n",
       "      <th>split3_test_score</th>\n",
       "      <th>split4_test_score</th>\n",
       "      <th>mean_test_score</th>\n",
       "      <th>std_test_score</th>\n",
       "      <th>rank_test_score</th>\n",
       "    </tr>\n",
       "  </thead>\n",
       "  <tbody>\n",
       "    <tr>\n",
       "      <th>0</th>\n",
       "      <td>1.100655</td>\n",
       "      <td>0.011174</td>\n",
       "      <td>0.552527</td>\n",
       "      <td>0.033715</td>\n",
       "      <td>0.5</td>\n",
       "      <td>0.00005</td>\n",
       "      <td>linear</td>\n",
       "      <td>{'C': 0.5, 'gamma': 5e-05, 'kernel': 'linear'}</td>\n",
       "      <td>0.060000</td>\n",
       "      <td>0.084286</td>\n",
       "      <td>0.071429</td>\n",
       "      <td>0.071429</td>\n",
       "      <td>0.065714</td>\n",
       "      <td>0.070571</td>\n",
       "      <td>0.008061</td>\n",
       "      <td>4</td>\n",
       "    </tr>\n",
       "    <tr>\n",
       "      <th>1</th>\n",
       "      <td>0.715886</td>\n",
       "      <td>0.001464</td>\n",
       "      <td>0.643873</td>\n",
       "      <td>0.006240</td>\n",
       "      <td>0.5</td>\n",
       "      <td>0.00005</td>\n",
       "      <td>rbf</td>\n",
       "      <td>{'C': 0.5, 'gamma': 5e-05, 'kernel': 'rbf'}</td>\n",
       "      <td>0.038571</td>\n",
       "      <td>0.040000</td>\n",
       "      <td>0.040000</td>\n",
       "      <td>0.040000</td>\n",
       "      <td>0.038571</td>\n",
       "      <td>0.039429</td>\n",
       "      <td>0.000700</td>\n",
       "      <td>10</td>\n",
       "    </tr>\n",
       "    <tr>\n",
       "      <th>2</th>\n",
       "      <td>1.099057</td>\n",
       "      <td>0.017226</td>\n",
       "      <td>0.537369</td>\n",
       "      <td>0.014754</td>\n",
       "      <td>0.5</td>\n",
       "      <td>0.0001</td>\n",
       "      <td>linear</td>\n",
       "      <td>{'C': 0.5, 'gamma': 0.0001, 'kernel': 'linear'}</td>\n",
       "      <td>0.060000</td>\n",
       "      <td>0.084286</td>\n",
       "      <td>0.071429</td>\n",
       "      <td>0.071429</td>\n",
       "      <td>0.065714</td>\n",
       "      <td>0.070571</td>\n",
       "      <td>0.008061</td>\n",
       "      <td>4</td>\n",
       "    </tr>\n",
       "    <tr>\n",
       "      <th>3</th>\n",
       "      <td>0.734831</td>\n",
       "      <td>0.004946</td>\n",
       "      <td>0.637705</td>\n",
       "      <td>0.008080</td>\n",
       "      <td>0.5</td>\n",
       "      <td>0.0001</td>\n",
       "      <td>rbf</td>\n",
       "      <td>{'C': 0.5, 'gamma': 0.0001, 'kernel': 'rbf'}</td>\n",
       "      <td>0.038571</td>\n",
       "      <td>0.040000</td>\n",
       "      <td>0.040000</td>\n",
       "      <td>0.040000</td>\n",
       "      <td>0.038571</td>\n",
       "      <td>0.039429</td>\n",
       "      <td>0.000700</td>\n",
       "      <td>10</td>\n",
       "    </tr>\n",
       "    <tr>\n",
       "      <th>4</th>\n",
       "      <td>1.092282</td>\n",
       "      <td>0.010080</td>\n",
       "      <td>0.541956</td>\n",
       "      <td>0.015102</td>\n",
       "      <td>0.5</td>\n",
       "      <td>0.0003</td>\n",
       "      <td>linear</td>\n",
       "      <td>{'C': 0.5, 'gamma': 0.0003, 'kernel': 'linear'}</td>\n",
       "      <td>0.060000</td>\n",
       "      <td>0.084286</td>\n",
       "      <td>0.071429</td>\n",
       "      <td>0.071429</td>\n",
       "      <td>0.065714</td>\n",
       "      <td>0.070571</td>\n",
       "      <td>0.008061</td>\n",
       "      <td>4</td>\n",
       "    </tr>\n",
       "  </tbody>\n",
       "</table>\n",
       "</div>"
      ],
      "text/plain": [
       "   mean_fit_time  std_fit_time  mean_score_time  std_score_time param_C  \\\n",
       "0       1.100655      0.011174         0.552527        0.033715     0.5   \n",
       "1       0.715886      0.001464         0.643873        0.006240     0.5   \n",
       "2       1.099057      0.017226         0.537369        0.014754     0.5   \n",
       "3       0.734831      0.004946         0.637705        0.008080     0.5   \n",
       "4       1.092282      0.010080         0.541956        0.015102     0.5   \n",
       "\n",
       "  param_gamma param_kernel                                           params  \\\n",
       "0     0.00005       linear   {'C': 0.5, 'gamma': 5e-05, 'kernel': 'linear'}   \n",
       "1     0.00005          rbf      {'C': 0.5, 'gamma': 5e-05, 'kernel': 'rbf'}   \n",
       "2      0.0001       linear  {'C': 0.5, 'gamma': 0.0001, 'kernel': 'linear'}   \n",
       "3      0.0001          rbf     {'C': 0.5, 'gamma': 0.0001, 'kernel': 'rbf'}   \n",
       "4      0.0003       linear  {'C': 0.5, 'gamma': 0.0003, 'kernel': 'linear'}   \n",
       "\n",
       "   split0_test_score  split1_test_score  split2_test_score  split3_test_score  \\\n",
       "0           0.060000           0.084286           0.071429           0.071429   \n",
       "1           0.038571           0.040000           0.040000           0.040000   \n",
       "2           0.060000           0.084286           0.071429           0.071429   \n",
       "3           0.038571           0.040000           0.040000           0.040000   \n",
       "4           0.060000           0.084286           0.071429           0.071429   \n",
       "\n",
       "   split4_test_score  mean_test_score  std_test_score  rank_test_score  \n",
       "0           0.065714         0.070571        0.008061                4  \n",
       "1           0.038571         0.039429        0.000700               10  \n",
       "2           0.065714         0.070571        0.008061                4  \n",
       "3           0.038571         0.039429        0.000700               10  \n",
       "4           0.065714         0.070571        0.008061                4  "
      ]
     },
     "execution_count": 79,
     "metadata": {},
     "output_type": "execute_result"
    }
   ],
   "source": [
    "scores=clf.cv_results_\n",
    "scores_df=pd.DataFrame.from_dict(scores)\n",
    "scores_df.head()"
   ]
  },
  {
   "cell_type": "code",
   "execution_count": 80,
   "metadata": {},
   "outputs": [
    {
     "name": "stdout",
     "output_type": "stream",
     "text": [
      "Los Mejores Parametros son {'C': 1, 'gamma': 5e-05, 'kernel': 'linear'} con un score de 0.071\n"
     ]
    }
   ],
   "source": [
    "print(\"Los Mejores Parametros son %s con un score de %0.3f\" % (clf.best_params_, clf.best_score_))"
   ]
  },
  {
   "cell_type": "code",
   "execution_count": 81,
   "metadata": {},
   "outputs": [
    {
     "name": "stdout",
     "output_type": "stream",
     "text": [
      "[150  50 225 ...  45  45  35]\n"
     ]
    }
   ],
   "source": [
    "Yprediction4=clf.predict(xtest_scal)\n",
    "print(Yprediction4)"
   ]
  },
  {
   "cell_type": "code",
   "execution_count": 82,
   "metadata": {},
   "outputs": [
    {
     "data": {
      "text/plain": [
       "1664.934"
      ]
     },
     "execution_count": 82,
     "metadata": {},
     "output_type": "execute_result"
    }
   ],
   "source": [
    "(mean_squared_error(y_test,Yprediction4))"
   ]
  },
  {
   "cell_type": "code",
   "execution_count": null,
   "metadata": {},
   "outputs": [],
   "source": [
    "#No veo cambios en el ECM, sigo con otros hiperparametros"
   ]
  },
  {
   "cell_type": "code",
   "execution_count": 84,
   "metadata": {},
   "outputs": [],
   "source": [
    "parameters4 = {'kernel':('linear', 'rbf'),\n",
    "              'C':[0.75, 1, 1.25],\n",
    "              'gamma':[0.0000001,0.0000005, 0.000001]}"
   ]
  },
  {
   "cell_type": "code",
   "execution_count": 85,
   "metadata": {},
   "outputs": [
    {
     "name": "stdout",
     "output_type": "stream",
     "text": [
      "Fitting 5 folds for each of 18 candidates, totalling 90 fits\n"
     ]
    },
    {
     "name": "stderr",
     "output_type": "stream",
     "text": [
      "D:\\Anaconda\\lib\\site-packages\\sklearn\\model_selection\\_split.py:676: UserWarning: The least populated class in y has only 1 members, which is less than n_splits=5.\n",
      "  warnings.warn(\n"
     ]
    },
    {
     "name": "stdout",
     "output_type": "stream",
     "text": [
      "[CV 1/5] END C=0.75, gamma=1e-07, kernel=linear;, score=0.054 total time=   1.6s\n",
      "[CV 2/5] END C=0.75, gamma=1e-07, kernel=linear;, score=0.083 total time=   1.6s\n",
      "[CV 3/5] END C=0.75, gamma=1e-07, kernel=linear;, score=0.073 total time=   1.6s\n",
      "[CV 4/5] END C=0.75, gamma=1e-07, kernel=linear;, score=0.077 total time=   1.6s\n",
      "[CV 5/5] END C=0.75, gamma=1e-07, kernel=linear;, score=0.070 total time=   1.6s\n",
      "[CV 1/5] END ...C=0.75, gamma=1e-07, kernel=rbf;, score=0.039 total time=   1.3s\n",
      "[CV 2/5] END ...C=0.75, gamma=1e-07, kernel=rbf;, score=0.040 total time=   1.3s\n",
      "[CV 3/5] END ...C=0.75, gamma=1e-07, kernel=rbf;, score=0.040 total time=   1.2s\n",
      "[CV 4/5] END ...C=0.75, gamma=1e-07, kernel=rbf;, score=0.040 total time=   1.3s\n",
      "[CV 5/5] END ...C=0.75, gamma=1e-07, kernel=rbf;, score=0.039 total time=   1.3s\n",
      "[CV 1/5] END C=0.75, gamma=5e-07, kernel=linear;, score=0.054 total time=   1.6s\n",
      "[CV 2/5] END C=0.75, gamma=5e-07, kernel=linear;, score=0.083 total time=   1.6s\n",
      "[CV 3/5] END C=0.75, gamma=5e-07, kernel=linear;, score=0.073 total time=   1.6s\n",
      "[CV 4/5] END C=0.75, gamma=5e-07, kernel=linear;, score=0.077 total time=   1.6s\n",
      "[CV 5/5] END C=0.75, gamma=5e-07, kernel=linear;, score=0.070 total time=   1.6s\n",
      "[CV 1/5] END ...C=0.75, gamma=5e-07, kernel=rbf;, score=0.039 total time=   1.3s\n",
      "[CV 2/5] END ...C=0.75, gamma=5e-07, kernel=rbf;, score=0.040 total time=   1.2s\n",
      "[CV 3/5] END ...C=0.75, gamma=5e-07, kernel=rbf;, score=0.040 total time=   1.2s\n",
      "[CV 4/5] END ...C=0.75, gamma=5e-07, kernel=rbf;, score=0.040 total time=   1.2s\n",
      "[CV 5/5] END ...C=0.75, gamma=5e-07, kernel=rbf;, score=0.039 total time=   1.3s\n",
      "[CV 1/5] END C=0.75, gamma=1e-06, kernel=linear;, score=0.054 total time=   1.6s\n",
      "[CV 2/5] END C=0.75, gamma=1e-06, kernel=linear;, score=0.083 total time=   1.6s\n",
      "[CV 3/5] END C=0.75, gamma=1e-06, kernel=linear;, score=0.073 total time=   1.6s\n",
      "[CV 4/5] END C=0.75, gamma=1e-06, kernel=linear;, score=0.077 total time=   1.6s\n",
      "[CV 5/5] END C=0.75, gamma=1e-06, kernel=linear;, score=0.070 total time=   1.6s\n",
      "[CV 1/5] END ...C=0.75, gamma=1e-06, kernel=rbf;, score=0.039 total time=   1.2s\n",
      "[CV 2/5] END ...C=0.75, gamma=1e-06, kernel=rbf;, score=0.040 total time=   1.3s\n",
      "[CV 3/5] END ...C=0.75, gamma=1e-06, kernel=rbf;, score=0.040 total time=   1.2s\n",
      "[CV 4/5] END ...C=0.75, gamma=1e-06, kernel=rbf;, score=0.040 total time=   1.2s\n",
      "[CV 5/5] END ...C=0.75, gamma=1e-06, kernel=rbf;, score=0.039 total time=   1.3s\n",
      "[CV 1/5] END ...C=1, gamma=1e-07, kernel=linear;, score=0.060 total time=   1.7s\n",
      "[CV 2/5] END ...C=1, gamma=1e-07, kernel=linear;, score=0.079 total time=   1.7s\n",
      "[CV 3/5] END ...C=1, gamma=1e-07, kernel=linear;, score=0.073 total time=   1.7s\n",
      "[CV 4/5] END ...C=1, gamma=1e-07, kernel=linear;, score=0.073 total time=   1.7s\n",
      "[CV 5/5] END ...C=1, gamma=1e-07, kernel=linear;, score=0.071 total time=   1.7s\n",
      "[CV 1/5] END ......C=1, gamma=1e-07, kernel=rbf;, score=0.039 total time=   1.3s\n",
      "[CV 2/5] END ......C=1, gamma=1e-07, kernel=rbf;, score=0.040 total time=   1.3s\n",
      "[CV 3/5] END ......C=1, gamma=1e-07, kernel=rbf;, score=0.040 total time=   1.2s\n",
      "[CV 4/5] END ......C=1, gamma=1e-07, kernel=rbf;, score=0.040 total time=   1.2s\n",
      "[CV 5/5] END ......C=1, gamma=1e-07, kernel=rbf;, score=0.039 total time=   1.3s\n",
      "[CV 1/5] END ...C=1, gamma=5e-07, kernel=linear;, score=0.060 total time=   1.7s\n",
      "[CV 2/5] END ...C=1, gamma=5e-07, kernel=linear;, score=0.079 total time=   1.7s\n",
      "[CV 3/5] END ...C=1, gamma=5e-07, kernel=linear;, score=0.073 total time=   1.7s\n",
      "[CV 4/5] END ...C=1, gamma=5e-07, kernel=linear;, score=0.073 total time=   1.7s\n",
      "[CV 5/5] END ...C=1, gamma=5e-07, kernel=linear;, score=0.071 total time=   1.7s\n",
      "[CV 1/5] END ......C=1, gamma=5e-07, kernel=rbf;, score=0.039 total time=   1.2s\n",
      "[CV 2/5] END ......C=1, gamma=5e-07, kernel=rbf;, score=0.040 total time=   1.3s\n",
      "[CV 3/5] END ......C=1, gamma=5e-07, kernel=rbf;, score=0.040 total time=   1.2s\n",
      "[CV 4/5] END ......C=1, gamma=5e-07, kernel=rbf;, score=0.040 total time=   1.2s\n",
      "[CV 5/5] END ......C=1, gamma=5e-07, kernel=rbf;, score=0.039 total time=   1.2s\n",
      "[CV 1/5] END ...C=1, gamma=1e-06, kernel=linear;, score=0.060 total time=   1.7s\n",
      "[CV 2/5] END ...C=1, gamma=1e-06, kernel=linear;, score=0.079 total time=   1.7s\n",
      "[CV 3/5] END ...C=1, gamma=1e-06, kernel=linear;, score=0.073 total time=   1.7s\n",
      "[CV 4/5] END ...C=1, gamma=1e-06, kernel=linear;, score=0.073 total time=   1.7s\n",
      "[CV 5/5] END ...C=1, gamma=1e-06, kernel=linear;, score=0.071 total time=   1.7s\n",
      "[CV 1/5] END ......C=1, gamma=1e-06, kernel=rbf;, score=0.039 total time=   1.3s\n",
      "[CV 2/5] END ......C=1, gamma=1e-06, kernel=rbf;, score=0.040 total time=   1.2s\n",
      "[CV 3/5] END ......C=1, gamma=1e-06, kernel=rbf;, score=0.040 total time=   1.2s\n",
      "[CV 4/5] END ......C=1, gamma=1e-06, kernel=rbf;, score=0.040 total time=   1.2s\n",
      "[CV 5/5] END ......C=1, gamma=1e-06, kernel=rbf;, score=0.039 total time=   1.3s\n",
      "[CV 1/5] END C=1.25, gamma=1e-07, kernel=linear;, score=0.064 total time=   1.9s\n",
      "[CV 2/5] END C=1.25, gamma=1e-07, kernel=linear;, score=0.073 total time=   1.7s\n",
      "[CV 3/5] END C=1.25, gamma=1e-07, kernel=linear;, score=0.070 total time=   1.7s\n",
      "[CV 4/5] END C=1.25, gamma=1e-07, kernel=linear;, score=0.073 total time=   1.7s\n",
      "[CV 5/5] END C=1.25, gamma=1e-07, kernel=linear;, score=0.066 total time=   1.8s\n",
      "[CV 1/5] END ...C=1.25, gamma=1e-07, kernel=rbf;, score=0.039 total time=   1.3s\n",
      "[CV 2/5] END ...C=1.25, gamma=1e-07, kernel=rbf;, score=0.040 total time=   1.2s\n",
      "[CV 3/5] END ...C=1.25, gamma=1e-07, kernel=rbf;, score=0.040 total time=   1.2s\n",
      "[CV 4/5] END ...C=1.25, gamma=1e-07, kernel=rbf;, score=0.040 total time=   1.2s\n",
      "[CV 5/5] END ...C=1.25, gamma=1e-07, kernel=rbf;, score=0.039 total time=   1.2s\n",
      "[CV 1/5] END C=1.25, gamma=5e-07, kernel=linear;, score=0.064 total time=   1.8s\n",
      "[CV 2/5] END C=1.25, gamma=5e-07, kernel=linear;, score=0.073 total time=   1.7s\n",
      "[CV 3/5] END C=1.25, gamma=5e-07, kernel=linear;, score=0.070 total time=   1.7s\n",
      "[CV 4/5] END C=1.25, gamma=5e-07, kernel=linear;, score=0.073 total time=   1.7s\n",
      "[CV 5/5] END C=1.25, gamma=5e-07, kernel=linear;, score=0.066 total time=   1.7s\n",
      "[CV 1/5] END ...C=1.25, gamma=5e-07, kernel=rbf;, score=0.039 total time=   1.2s\n",
      "[CV 2/5] END ...C=1.25, gamma=5e-07, kernel=rbf;, score=0.040 total time=   1.2s\n",
      "[CV 3/5] END ...C=1.25, gamma=5e-07, kernel=rbf;, score=0.040 total time=   1.2s\n",
      "[CV 4/5] END ...C=1.25, gamma=5e-07, kernel=rbf;, score=0.040 total time=   1.2s\n",
      "[CV 5/5] END ...C=1.25, gamma=5e-07, kernel=rbf;, score=0.039 total time=   1.2s\n",
      "[CV 1/5] END C=1.25, gamma=1e-06, kernel=linear;, score=0.064 total time=   1.9s\n",
      "[CV 2/5] END C=1.25, gamma=1e-06, kernel=linear;, score=0.073 total time=   1.8s\n",
      "[CV 3/5] END C=1.25, gamma=1e-06, kernel=linear;, score=0.070 total time=   1.8s\n",
      "[CV 4/5] END C=1.25, gamma=1e-06, kernel=linear;, score=0.073 total time=   1.8s\n",
      "[CV 5/5] END C=1.25, gamma=1e-06, kernel=linear;, score=0.066 total time=   1.8s\n",
      "[CV 1/5] END ...C=1.25, gamma=1e-06, kernel=rbf;, score=0.039 total time=   1.2s\n",
      "[CV 2/5] END ...C=1.25, gamma=1e-06, kernel=rbf;, score=0.040 total time=   1.3s\n",
      "[CV 3/5] END ...C=1.25, gamma=1e-06, kernel=rbf;, score=0.040 total time=   1.2s\n",
      "[CV 4/5] END ...C=1.25, gamma=1e-06, kernel=rbf;, score=0.040 total time=   1.2s\n",
      "[CV 5/5] END ...C=1.25, gamma=1e-06, kernel=rbf;, score=0.039 total time=   1.2s\n"
     ]
    },
    {
     "data": {
      "text/plain": [
       "GridSearchCV(cv=5, estimator=SVC(),\n",
       "             param_grid={'C': [0.75, 1, 1.25], 'gamma': [1e-07, 5e-07, 1e-06],\n",
       "                         'kernel': ('linear', 'rbf')},\n",
       "             verbose=3)"
      ]
     },
     "execution_count": 85,
     "metadata": {},
     "output_type": "execute_result"
    }
   ],
   "source": [
    "clf = GridSearchCV(svc,param_grid = parameters4,refit = True,cv = 5,verbose=3)\n",
    "clf.fit(xtrain_scal, y_train.ravel())"
   ]
  },
  {
   "cell_type": "code",
   "execution_count": 86,
   "metadata": {},
   "outputs": [
    {
     "data": {
      "text/html": [
       "<div>\n",
       "<style scoped>\n",
       "    .dataframe tbody tr th:only-of-type {\n",
       "        vertical-align: middle;\n",
       "    }\n",
       "\n",
       "    .dataframe tbody tr th {\n",
       "        vertical-align: top;\n",
       "    }\n",
       "\n",
       "    .dataframe thead th {\n",
       "        text-align: right;\n",
       "    }\n",
       "</style>\n",
       "<table border=\"1\" class=\"dataframe\">\n",
       "  <thead>\n",
       "    <tr style=\"text-align: right;\">\n",
       "      <th></th>\n",
       "      <th>mean_fit_time</th>\n",
       "      <th>std_fit_time</th>\n",
       "      <th>mean_score_time</th>\n",
       "      <th>std_score_time</th>\n",
       "      <th>param_C</th>\n",
       "      <th>param_gamma</th>\n",
       "      <th>param_kernel</th>\n",
       "      <th>params</th>\n",
       "      <th>split0_test_score</th>\n",
       "      <th>split1_test_score</th>\n",
       "      <th>split2_test_score</th>\n",
       "      <th>split3_test_score</th>\n",
       "      <th>split4_test_score</th>\n",
       "      <th>mean_test_score</th>\n",
       "      <th>std_test_score</th>\n",
       "      <th>rank_test_score</th>\n",
       "    </tr>\n",
       "  </thead>\n",
       "  <tbody>\n",
       "    <tr>\n",
       "      <th>0</th>\n",
       "      <td>1.174903</td>\n",
       "      <td>0.011467</td>\n",
       "      <td>0.537151</td>\n",
       "      <td>0.009399</td>\n",
       "      <td>0.75</td>\n",
       "      <td>0.0</td>\n",
       "      <td>linear</td>\n",
       "      <td>{'C': 0.75, 'gamma': 1e-07, 'kernel': 'linear'}</td>\n",
       "      <td>0.054286</td>\n",
       "      <td>0.082857</td>\n",
       "      <td>0.072857</td>\n",
       "      <td>0.077143</td>\n",
       "      <td>0.070000</td>\n",
       "      <td>0.071429</td>\n",
       "      <td>0.009604</td>\n",
       "      <td>1</td>\n",
       "    </tr>\n",
       "    <tr>\n",
       "      <th>1</th>\n",
       "      <td>0.709903</td>\n",
       "      <td>0.007364</td>\n",
       "      <td>0.656445</td>\n",
       "      <td>0.016832</td>\n",
       "      <td>0.75</td>\n",
       "      <td>0.0</td>\n",
       "      <td>rbf</td>\n",
       "      <td>{'C': 0.75, 'gamma': 1e-07, 'kernel': 'rbf'}</td>\n",
       "      <td>0.038571</td>\n",
       "      <td>0.040000</td>\n",
       "      <td>0.040000</td>\n",
       "      <td>0.040000</td>\n",
       "      <td>0.038571</td>\n",
       "      <td>0.039429</td>\n",
       "      <td>0.000700</td>\n",
       "      <td>10</td>\n",
       "    </tr>\n",
       "    <tr>\n",
       "      <th>2</th>\n",
       "      <td>1.166882</td>\n",
       "      <td>0.002282</td>\n",
       "      <td>0.541555</td>\n",
       "      <td>0.012853</td>\n",
       "      <td>0.75</td>\n",
       "      <td>0.0</td>\n",
       "      <td>linear</td>\n",
       "      <td>{'C': 0.75, 'gamma': 5e-07, 'kernel': 'linear'}</td>\n",
       "      <td>0.054286</td>\n",
       "      <td>0.082857</td>\n",
       "      <td>0.072857</td>\n",
       "      <td>0.077143</td>\n",
       "      <td>0.070000</td>\n",
       "      <td>0.071429</td>\n",
       "      <td>0.009604</td>\n",
       "      <td>1</td>\n",
       "    </tr>\n",
       "    <tr>\n",
       "      <th>3</th>\n",
       "      <td>0.705500</td>\n",
       "      <td>0.007088</td>\n",
       "      <td>0.652465</td>\n",
       "      <td>0.029158</td>\n",
       "      <td>0.75</td>\n",
       "      <td>0.0</td>\n",
       "      <td>rbf</td>\n",
       "      <td>{'C': 0.75, 'gamma': 5e-07, 'kernel': 'rbf'}</td>\n",
       "      <td>0.038571</td>\n",
       "      <td>0.040000</td>\n",
       "      <td>0.040000</td>\n",
       "      <td>0.040000</td>\n",
       "      <td>0.038571</td>\n",
       "      <td>0.039429</td>\n",
       "      <td>0.000700</td>\n",
       "      <td>10</td>\n",
       "    </tr>\n",
       "    <tr>\n",
       "      <th>4</th>\n",
       "      <td>1.164293</td>\n",
       "      <td>0.003617</td>\n",
       "      <td>0.535964</td>\n",
       "      <td>0.009055</td>\n",
       "      <td>0.75</td>\n",
       "      <td>0.000001</td>\n",
       "      <td>linear</td>\n",
       "      <td>{'C': 0.75, 'gamma': 1e-06, 'kernel': 'linear'}</td>\n",
       "      <td>0.054286</td>\n",
       "      <td>0.082857</td>\n",
       "      <td>0.072857</td>\n",
       "      <td>0.077143</td>\n",
       "      <td>0.070000</td>\n",
       "      <td>0.071429</td>\n",
       "      <td>0.009604</td>\n",
       "      <td>1</td>\n",
       "    </tr>\n",
       "  </tbody>\n",
       "</table>\n",
       "</div>"
      ],
      "text/plain": [
       "   mean_fit_time  std_fit_time  mean_score_time  std_score_time param_C  \\\n",
       "0       1.174903      0.011467         0.537151        0.009399    0.75   \n",
       "1       0.709903      0.007364         0.656445        0.016832    0.75   \n",
       "2       1.166882      0.002282         0.541555        0.012853    0.75   \n",
       "3       0.705500      0.007088         0.652465        0.029158    0.75   \n",
       "4       1.164293      0.003617         0.535964        0.009055    0.75   \n",
       "\n",
       "  param_gamma param_kernel                                           params  \\\n",
       "0         0.0       linear  {'C': 0.75, 'gamma': 1e-07, 'kernel': 'linear'}   \n",
       "1         0.0          rbf     {'C': 0.75, 'gamma': 1e-07, 'kernel': 'rbf'}   \n",
       "2         0.0       linear  {'C': 0.75, 'gamma': 5e-07, 'kernel': 'linear'}   \n",
       "3         0.0          rbf     {'C': 0.75, 'gamma': 5e-07, 'kernel': 'rbf'}   \n",
       "4    0.000001       linear  {'C': 0.75, 'gamma': 1e-06, 'kernel': 'linear'}   \n",
       "\n",
       "   split0_test_score  split1_test_score  split2_test_score  split3_test_score  \\\n",
       "0           0.054286           0.082857           0.072857           0.077143   \n",
       "1           0.038571           0.040000           0.040000           0.040000   \n",
       "2           0.054286           0.082857           0.072857           0.077143   \n",
       "3           0.038571           0.040000           0.040000           0.040000   \n",
       "4           0.054286           0.082857           0.072857           0.077143   \n",
       "\n",
       "   split4_test_score  mean_test_score  std_test_score  rank_test_score  \n",
       "0           0.070000         0.071429        0.009604                1  \n",
       "1           0.038571         0.039429        0.000700               10  \n",
       "2           0.070000         0.071429        0.009604                1  \n",
       "3           0.038571         0.039429        0.000700               10  \n",
       "4           0.070000         0.071429        0.009604                1  "
      ]
     },
     "execution_count": 86,
     "metadata": {},
     "output_type": "execute_result"
    }
   ],
   "source": [
    "scores=clf.cv_results_\n",
    "scores_df=pd.DataFrame.from_dict(scores)\n",
    "scores_df.head()"
   ]
  },
  {
   "cell_type": "code",
   "execution_count": 87,
   "metadata": {},
   "outputs": [
    {
     "name": "stdout",
     "output_type": "stream",
     "text": [
      "Los Mejores Parametros son {'C': 0.75, 'gamma': 1e-07, 'kernel': 'linear'} con un score de 0.071\n"
     ]
    }
   ],
   "source": [
    "print(\"Los Mejores Parametros son %s con un score de %0.3f\" % (clf.best_params_, clf.best_score_))"
   ]
  },
  {
   "cell_type": "code",
   "execution_count": 88,
   "metadata": {},
   "outputs": [
    {
     "name": "stdout",
     "output_type": "stream",
     "text": [
      "[150  50  68 ...  45  45  35]\n"
     ]
    }
   ],
   "source": [
    "Yprediction5=clf.predict(xtest_scal)\n",
    "print(Yprediction5)"
   ]
  },
  {
   "cell_type": "code",
   "execution_count": 90,
   "metadata": {},
   "outputs": [
    {
     "data": {
      "text/plain": [
       "1613.9353333333333"
      ]
     },
     "execution_count": 90,
     "metadata": {},
     "output_type": "execute_result"
    }
   ],
   "source": [
    "(mean_squared_error(y_test,Yprediction5))"
   ]
  },
  {
   "cell_type": "code",
   "execution_count": null,
   "metadata": {},
   "outputs": [],
   "source": [
    "#Veo que con los nuevos hiperparametros conseguidos, logramos reducir el ECM a 1613.93."
   ]
  },
  {
   "cell_type": "code",
   "execution_count": null,
   "metadata": {},
   "outputs": [],
   "source": []
  }
 ],
 "metadata": {
  "colab": {
   "collapsed_sections": [],
   "provenance": []
  },
  "kernelspec": {
   "display_name": "Python 3 (ipykernel)",
   "language": "python",
   "name": "python3"
  },
  "language_info": {
   "codemirror_mode": {
    "name": "ipython",
    "version": 3
   },
   "file_extension": ".py",
   "mimetype": "text/x-python",
   "name": "python",
   "nbconvert_exporter": "python",
   "pygments_lexer": "ipython3",
   "version": "3.9.12"
  },
  "vscode": {
   "interpreter": {
    "hash": "c63d8c7d738c2960218a10995aedf0a7f67a49a231e71037adf0440953cdb45b"
   }
  }
 },
 "nbformat": 4,
 "nbformat_minor": 1
}
